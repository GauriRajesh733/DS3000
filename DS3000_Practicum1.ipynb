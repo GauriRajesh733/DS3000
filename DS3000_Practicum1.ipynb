{
  "cells": [
    {
      "cell_type": "markdown",
      "metadata": {},
      "source": [
        "# DS Practicum 1"
      ]
    },
    {
      "cell_type": "markdown",
      "metadata": {},
      "source": [
        "## Question 1"
      ]
    },
    {
      "cell_type": "markdown",
      "metadata": {},
      "source": [
        "**Problem:**"
      ]
    },
    {
      "cell_type": "markdown",
      "metadata": {
        "id": "RLcBzA1y5K4w"
      },
      "source": [
        "## Question 2"
      ]
    },
    {
      "cell_type": "markdown",
      "metadata": {},
      "source": [
        "**Loading Data**"
      ]
    },
    {
      "cell_type": "code",
      "execution_count": 3,
      "metadata": {
        "colab": {
          "base_uri": "https://localhost:8080/",
          "height": 313
        },
        "id": "wiH93S2W7xJ2",
        "outputId": "dd15f704-41dc-4f85-81ac-9bd2b5900673"
      },
      "outputs": [
        {
          "data": {
            "text/html": [
              "<div>\n",
              "<style scoped>\n",
              "    .dataframe tbody tr th:only-of-type {\n",
              "        vertical-align: middle;\n",
              "    }\n",
              "\n",
              "    .dataframe tbody tr th {\n",
              "        vertical-align: top;\n",
              "    }\n",
              "\n",
              "    .dataframe thead th {\n",
              "        text-align: right;\n",
              "    }\n",
              "</style>\n",
              "<table border=\"1\" class=\"dataframe\">\n",
              "  <thead>\n",
              "    <tr style=\"text-align: right;\">\n",
              "      <th></th>\n",
              "      <th>FL_DATE</th>\n",
              "      <th>CARRIER_CODE</th>\n",
              "      <th>TAIL_NUM</th>\n",
              "      <th>FL_NUM</th>\n",
              "      <th>ORIGIN</th>\n",
              "      <th>ORIGIN_ST</th>\n",
              "      <th>DEST</th>\n",
              "      <th>DEST_ST</th>\n",
              "      <th>DEP_TIME</th>\n",
              "      <th>DEP_DELAY</th>\n",
              "      <th>ARR_TIME</th>\n",
              "      <th>ARR_DELAY</th>\n",
              "      <th>ELAPSED_TIME</th>\n",
              "      <th>DISTANCE</th>\n",
              "    </tr>\n",
              "  </thead>\n",
              "  <tbody>\n",
              "    <tr>\n",
              "      <th>0</th>\n",
              "      <td>2019-10-01</td>\n",
              "      <td>AA</td>\n",
              "      <td>N916NN</td>\n",
              "      <td>2311</td>\n",
              "      <td>TUS</td>\n",
              "      <td>AZ</td>\n",
              "      <td>ORD</td>\n",
              "      <td>IL</td>\n",
              "      <td>828.0</td>\n",
              "      <td>0.0</td>\n",
              "      <td>1353.0</td>\n",
              "      <td>0.0</td>\n",
              "      <td>205.0</td>\n",
              "      <td>1437</td>\n",
              "    </tr>\n",
              "    <tr>\n",
              "      <th>1</th>\n",
              "      <td>2019-10-01</td>\n",
              "      <td>AA</td>\n",
              "      <td>N733UW</td>\n",
              "      <td>2315</td>\n",
              "      <td>PHX</td>\n",
              "      <td>AZ</td>\n",
              "      <td>DEN</td>\n",
              "      <td>CO</td>\n",
              "      <td>1907.0</td>\n",
              "      <td>0.0</td>\n",
              "      <td>2159.0</td>\n",
              "      <td>0.0</td>\n",
              "      <td>112.0</td>\n",
              "      <td>602</td>\n",
              "    </tr>\n",
              "    <tr>\n",
              "      <th>2</th>\n",
              "      <td>2019-10-01</td>\n",
              "      <td>AA</td>\n",
              "      <td>N140AN</td>\n",
              "      <td>2318</td>\n",
              "      <td>DFW</td>\n",
              "      <td>TX</td>\n",
              "      <td>LAX</td>\n",
              "      <td>CA</td>\n",
              "      <td>1904.0</td>\n",
              "      <td>104.0</td>\n",
              "      <td>2016.0</td>\n",
              "      <td>101.0</td>\n",
              "      <td>192.0</td>\n",
              "      <td>1235</td>\n",
              "    </tr>\n",
              "    <tr>\n",
              "      <th>3</th>\n",
              "      <td>2019-10-01</td>\n",
              "      <td>AA</td>\n",
              "      <td>N925AN</td>\n",
              "      <td>2325</td>\n",
              "      <td>SNA</td>\n",
              "      <td>CA</td>\n",
              "      <td>DFW</td>\n",
              "      <td>TX</td>\n",
              "      <td>1729.0</td>\n",
              "      <td>4.0</td>\n",
              "      <td>2215.0</td>\n",
              "      <td>3.0</td>\n",
              "      <td>166.0</td>\n",
              "      <td>1205</td>\n",
              "    </tr>\n",
              "    <tr>\n",
              "      <th>4</th>\n",
              "      <td>2019-10-01</td>\n",
              "      <td>AA</td>\n",
              "      <td>N143AN</td>\n",
              "      <td>2328</td>\n",
              "      <td>ATL</td>\n",
              "      <td>GA</td>\n",
              "      <td>LAX</td>\n",
              "      <td>CA</td>\n",
              "      <td>656.0</td>\n",
              "      <td>0.0</td>\n",
              "      <td>841.0</td>\n",
              "      <td>0.0</td>\n",
              "      <td>285.0</td>\n",
              "      <td>1947</td>\n",
              "    </tr>\n",
              "  </tbody>\n",
              "</table>\n",
              "</div>"
            ],
            "text/plain": [
              "      FL_DATE CARRIER_CODE TAIL_NUM  FL_NUM ORIGIN ORIGIN_ST DEST DEST_ST  \\\n",
              "0  2019-10-01           AA   N916NN    2311    TUS        AZ  ORD      IL   \n",
              "1  2019-10-01           AA   N733UW    2315    PHX        AZ  DEN      CO   \n",
              "2  2019-10-01           AA   N140AN    2318    DFW        TX  LAX      CA   \n",
              "3  2019-10-01           AA   N925AN    2325    SNA        CA  DFW      TX   \n",
              "4  2019-10-01           AA   N143AN    2328    ATL        GA  LAX      CA   \n",
              "\n",
              "   DEP_TIME  DEP_DELAY  ARR_TIME  ARR_DELAY  ELAPSED_TIME  DISTANCE  \n",
              "0     828.0        0.0    1353.0        0.0         205.0      1437  \n",
              "1    1907.0        0.0    2159.0        0.0         112.0       602  \n",
              "2    1904.0      104.0    2016.0      101.0         192.0      1235  \n",
              "3    1729.0        4.0    2215.0        3.0         166.0      1205  \n",
              "4     656.0        0.0     841.0        0.0         285.0      1947  "
            ]
          },
          "execution_count": 3,
          "metadata": {},
          "output_type": "execute_result"
        }
      ],
      "source": [
        "import pandas as pd\n",
        "\n",
        "# Load the CSV with the correct filename\n",
        "df = pd.read_csv(\"2019_ONTIME_REPORTING_FSW-1.csv\")\n",
        "\n",
        "# View the first 5 rows\n",
        "df.head()"
      ]
    },
    {
      "cell_type": "markdown",
      "metadata": {},
      "source": [
        "**Inspecting Data and Converting to Suitable Types**"
      ]
    },
    {
      "cell_type": "code",
      "execution_count": 4,
      "metadata": {
        "colab": {
          "base_uri": "https://localhost:8080/"
        },
        "id": "Yeo8eBJ52dEU",
        "outputId": "ef20c861-9082-4292-fd54-4c90a0f34afd"
      },
      "outputs": [
        {
          "name": "stdout",
          "output_type": "stream",
          "text": [
            "There are 1897503 rows and 14 columns.\n",
            "<class 'pandas.core.frame.DataFrame'>\n",
            "RangeIndex: 1897503 entries, 0 to 1897502\n",
            "Data columns (total 14 columns):\n",
            " #   Column        Dtype  \n",
            "---  ------        -----  \n",
            " 0   FL_DATE       object \n",
            " 1   CARRIER_CODE  object \n",
            " 2   TAIL_NUM      object \n",
            " 3   FL_NUM        int64  \n",
            " 4   ORIGIN        object \n",
            " 5   ORIGIN_ST     object \n",
            " 6   DEST          object \n",
            " 7   DEST_ST       object \n",
            " 8   DEP_TIME      float64\n",
            " 9   DEP_DELAY     float64\n",
            " 10  ARR_TIME      float64\n",
            " 11  ARR_DELAY     float64\n",
            " 12  ELAPSED_TIME  float64\n",
            " 13  DISTANCE      int64  \n",
            "dtypes: float64(5), int64(2), object(7)\n",
            "memory usage: 202.7+ MB\n"
          ]
        }
      ],
      "source": [
        "# inspect the dimensions\n",
        "print(f\"There are {df.shape[0]} rows and {df.shape[1]} columns.\")\n",
        "\n",
        "# inspect data types\n",
        "df.info()"
      ]
    },
    {
      "cell_type": "markdown",
      "metadata": {},
      "source": [
        "**Dimensions** <br></br>There are 1897503 rows and 14 columns of data.  "
      ]
    },
    {
      "cell_type": "markdown",
      "metadata": {},
      "source": [
        "**Changes in Data Types**\n",
        "<br></br>\n",
        "CARRIER_CODE, TAIL_NUM, FL_NUM, ORIGIN, ORIGIN_ST, DEST, and DEST_ST will be changed to category variables because they represent labels.  FL_DATE will be changed to datetime because it represents a date.  DEP_TIME, DEP_DELAY, ARR_TIME, ARR_DELAY, and ELAPSED_TIME will be changed to integers as well."
      ]
    },
    {
      "cell_type": "code",
      "execution_count": 5,
      "metadata": {
        "id": "HEgSnZ8H8R_b"
      },
      "outputs": [
        {
          "data": {
            "text/plain": [
              "FL_DATE         datetime64[ns]\n",
              "CARRIER_CODE          category\n",
              "TAIL_NUM              category\n",
              "FL_NUM                category\n",
              "ORIGIN                category\n",
              "ORIGIN_ST             category\n",
              "DEST                  category\n",
              "DEST_ST               category\n",
              "DEP_TIME                 Int64\n",
              "DEP_DELAY                Int64\n",
              "ARR_TIME                 Int64\n",
              "ARR_DELAY                Int64\n",
              "ELAPSED_TIME             Int64\n",
              "DISTANCE                 int64\n",
              "dtype: object"
            ]
          },
          "execution_count": 5,
          "metadata": {},
          "output_type": "execute_result"
        }
      ],
      "source": [
        "# change FL_DATE to datetime\n",
        "df[\"FL_DATE\"] = pd.to_datetime(df[\"FL_DATE\"])\n",
        "\n",
        "# change CARRIER_CODE, TAIL_NUM, FL_NUM, ORIGIN, ORIGIN_ST, DEST, DEST_ST to\n",
        "# categorical variables\n",
        "df[\"FL_NUM\"] = df[\"FL_NUM\"].astype(\"category\")\n",
        "df[\"CARRIER_CODE\"] = df[\"CARRIER_CODE\"].astype(\"category\")\n",
        "df[\"TAIL_NUM\"] = df[\"TAIL_NUM\"].astype(\"category\")\n",
        "df[\"ORIGIN\"] = df[\"ORIGIN\"].astype(\"category\")\n",
        "df[\"ORIGIN_ST\"] = df[\"ORIGIN_ST\"].astype(\"category\")\n",
        "df[\"DEST\"] = df[\"DEST\"].astype(\"category\")\n",
        "df[\"DEST_ST\"] = df[\"DEST_ST\"].astype(\"category\")\n",
        "\n",
        "# change DEP_TIME, DEP_DELAY, ARR_TIME, ARR_DELAY, ELAPSED_TIME to Int64\n",
        "df[\"DEP_TIME\"] = df[\"DEP_TIME\"].astype(\"Int64\")\n",
        "df[\"DEP_DELAY\"] = df[\"DEP_DELAY\"].astype(\"Int64\")\n",
        "df[\"ARR_TIME\"] = df[\"ARR_TIME\"].astype(\"Int64\")\n",
        "df[\"ARR_DELAY\"] = df[\"ARR_DELAY\"].astype(\"Int64\")\n",
        "df[\"ELAPSED_TIME\"] = df[\"ELAPSED_TIME\"].astype(\"Int64\")\n",
        "\n",
        "# verify changes \n",
        "df.dtypes"
      ]
    },
    {
      "cell_type": "code",
      "execution_count": 6,
      "metadata": {},
      "outputs": [
        {
          "data": {
            "text/html": [
              "<div>\n",
              "<style scoped>\n",
              "    .dataframe tbody tr th:only-of-type {\n",
              "        vertical-align: middle;\n",
              "    }\n",
              "\n",
              "    .dataframe tbody tr th {\n",
              "        vertical-align: top;\n",
              "    }\n",
              "\n",
              "    .dataframe thead th {\n",
              "        text-align: right;\n",
              "    }\n",
              "</style>\n",
              "<table border=\"1\" class=\"dataframe\">\n",
              "  <thead>\n",
              "    <tr style=\"text-align: right;\">\n",
              "      <th></th>\n",
              "      <th>FL_DATE</th>\n",
              "      <th>CARRIER_CODE</th>\n",
              "      <th>TAIL_NUM</th>\n",
              "      <th>FL_NUM</th>\n",
              "      <th>ORIGIN</th>\n",
              "      <th>ORIGIN_ST</th>\n",
              "      <th>DEST</th>\n",
              "      <th>DEST_ST</th>\n",
              "      <th>DEP_TIME</th>\n",
              "      <th>DEP_DELAY</th>\n",
              "      <th>ARR_TIME</th>\n",
              "      <th>ARR_DELAY</th>\n",
              "      <th>ELAPSED_TIME</th>\n",
              "      <th>DISTANCE</th>\n",
              "    </tr>\n",
              "  </thead>\n",
              "  <tbody>\n",
              "    <tr>\n",
              "      <th>0</th>\n",
              "      <td>2019-10-01</td>\n",
              "      <td>AA</td>\n",
              "      <td>N916NN</td>\n",
              "      <td>2311</td>\n",
              "      <td>TUS</td>\n",
              "      <td>AZ</td>\n",
              "      <td>ORD</td>\n",
              "      <td>IL</td>\n",
              "      <td>828</td>\n",
              "      <td>0</td>\n",
              "      <td>1353</td>\n",
              "      <td>0</td>\n",
              "      <td>205</td>\n",
              "      <td>1437</td>\n",
              "    </tr>\n",
              "    <tr>\n",
              "      <th>1</th>\n",
              "      <td>2019-10-01</td>\n",
              "      <td>AA</td>\n",
              "      <td>N733UW</td>\n",
              "      <td>2315</td>\n",
              "      <td>PHX</td>\n",
              "      <td>AZ</td>\n",
              "      <td>DEN</td>\n",
              "      <td>CO</td>\n",
              "      <td>1907</td>\n",
              "      <td>0</td>\n",
              "      <td>2159</td>\n",
              "      <td>0</td>\n",
              "      <td>112</td>\n",
              "      <td>602</td>\n",
              "    </tr>\n",
              "    <tr>\n",
              "      <th>2</th>\n",
              "      <td>2019-10-01</td>\n",
              "      <td>AA</td>\n",
              "      <td>N140AN</td>\n",
              "      <td>2318</td>\n",
              "      <td>DFW</td>\n",
              "      <td>TX</td>\n",
              "      <td>LAX</td>\n",
              "      <td>CA</td>\n",
              "      <td>1904</td>\n",
              "      <td>104</td>\n",
              "      <td>2016</td>\n",
              "      <td>101</td>\n",
              "      <td>192</td>\n",
              "      <td>1235</td>\n",
              "    </tr>\n",
              "    <tr>\n",
              "      <th>3</th>\n",
              "      <td>2019-10-01</td>\n",
              "      <td>AA</td>\n",
              "      <td>N925AN</td>\n",
              "      <td>2325</td>\n",
              "      <td>SNA</td>\n",
              "      <td>CA</td>\n",
              "      <td>DFW</td>\n",
              "      <td>TX</td>\n",
              "      <td>1729</td>\n",
              "      <td>4</td>\n",
              "      <td>2215</td>\n",
              "      <td>3</td>\n",
              "      <td>166</td>\n",
              "      <td>1205</td>\n",
              "    </tr>\n",
              "    <tr>\n",
              "      <th>4</th>\n",
              "      <td>2019-10-01</td>\n",
              "      <td>AA</td>\n",
              "      <td>N143AN</td>\n",
              "      <td>2328</td>\n",
              "      <td>ATL</td>\n",
              "      <td>GA</td>\n",
              "      <td>LAX</td>\n",
              "      <td>CA</td>\n",
              "      <td>656</td>\n",
              "      <td>0</td>\n",
              "      <td>841</td>\n",
              "      <td>0</td>\n",
              "      <td>285</td>\n",
              "      <td>1947</td>\n",
              "    </tr>\n",
              "  </tbody>\n",
              "</table>\n",
              "</div>"
            ],
            "text/plain": [
              "     FL_DATE CARRIER_CODE TAIL_NUM FL_NUM ORIGIN ORIGIN_ST DEST DEST_ST  \\\n",
              "0 2019-10-01           AA   N916NN   2311    TUS        AZ  ORD      IL   \n",
              "1 2019-10-01           AA   N733UW   2315    PHX        AZ  DEN      CO   \n",
              "2 2019-10-01           AA   N140AN   2318    DFW        TX  LAX      CA   \n",
              "3 2019-10-01           AA   N925AN   2325    SNA        CA  DFW      TX   \n",
              "4 2019-10-01           AA   N143AN   2328    ATL        GA  LAX      CA   \n",
              "\n",
              "   DEP_TIME  DEP_DELAY  ARR_TIME  ARR_DELAY  ELAPSED_TIME  DISTANCE  \n",
              "0       828          0      1353          0           205      1437  \n",
              "1      1907          0      2159          0           112       602  \n",
              "2      1904        104      2016        101           192      1235  \n",
              "3      1729          4      2215          3           166      1205  \n",
              "4       656          0       841          0           285      1947  "
            ]
          },
          "execution_count": 6,
          "metadata": {},
          "output_type": "execute_result"
        }
      ],
      "source": [
        "# verify changes by checking first 5 rows\n",
        "df.head()"
      ]
    },
    {
      "cell_type": "code",
      "execution_count": 7,
      "metadata": {},
      "outputs": [
        {
          "data": {
            "text/plain": [
              "FL_DATE         0.000000\n",
              "CARRIER_CODE    0.000000\n",
              "TAIL_NUM        0.252490\n",
              "FL_NUM          0.000000\n",
              "ORIGIN          0.000000\n",
              "ORIGIN_ST       0.000000\n",
              "DEST            0.000000\n",
              "DEST_ST         0.000000\n",
              "DEP_TIME        1.407481\n",
              "DEP_DELAY       1.407903\n",
              "ARR_TIME        1.488482\n",
              "ARR_DELAY       1.680314\n",
              "ELAPSED_TIME    1.680314\n",
              "DISTANCE        0.000000\n",
              "dtype: float64"
            ]
          },
          "execution_count": 7,
          "metadata": {},
          "output_type": "execute_result"
        }
      ],
      "source": [
        "# percentage of missing values\n",
        "df.isnull().mean()*100"
      ]
    },
    {
      "cell_type": "code",
      "execution_count": 8,
      "metadata": {},
      "outputs": [
        {
          "data": {
            "text/plain": [
              "0    1865619\n",
              "5      21918\n",
              "6       4790\n",
              "2       3640\n",
              "3       1529\n",
              "4          7\n",
              "Name: count, dtype: int64"
            ]
          },
          "execution_count": 8,
          "metadata": {},
          "output_type": "execute_result"
        }
      ],
      "source": [
        "# distribution of missing values in rows\n",
        "df.isnull().sum(axis=1).sort_values(ascending=False).value_counts()"
      ]
    },
    {
      "cell_type": "markdown",
      "metadata": {},
      "source": [
        "**Missing Values**<br></br>Based on this information, missing data is not widespread since only a small percentage of rows have missing data.  Out of the rows with missing data, most have 5 or 6 missing columns.  Since the columns with missing values are related to arrival, departure, and delay times and this is important to the data science question on air traffic in part 1, these rows should be dropped."
      ]
    },
    {
      "cell_type": "code",
      "execution_count": 9,
      "metadata": {},
      "outputs": [
        {
          "data": {
            "text/plain": [
              "0    1865619\n",
              "Name: count, dtype: int64"
            ]
          },
          "execution_count": 9,
          "metadata": {},
          "output_type": "execute_result"
        }
      ],
      "source": [
        "# remove rows with null values\n",
        "df = df.dropna()\n",
        "\n",
        "# verify changes (only rows with 0 null values retained)\n",
        "df.isnull().sum(axis=1).sort_values(ascending=False).value_counts()"
      ]
    },
    {
      "cell_type": "markdown",
      "metadata": {},
      "source": [
        "**Invalid Data**"
      ]
    },
    {
      "cell_type": "markdown",
      "metadata": {},
      "source": [
        "Invalid times of 2400 for DEP_TIME were corrected by changing them to 0 and updating the FL_DATE by 1 day.  Rows with times of 2400 were not excluded since the data is not necessarily incorrect, just inconsistent since 2400 means 24 hours later or the next day.  This means the flight actually departed at midnight the next day."
      ]
    },
    {
      "cell_type": "code",
      "execution_count": 29,
      "metadata": {},
      "outputs": [
        {
          "name": "stdout",
          "output_type": "stream",
          "text": [
            "241 rows with invalid DEP_TIME values\n"
          ]
        },
        {
          "data": {
            "text/html": [
              "<div>\n",
              "<style scoped>\n",
              "    .dataframe tbody tr th:only-of-type {\n",
              "        vertical-align: middle;\n",
              "    }\n",
              "\n",
              "    .dataframe tbody tr th {\n",
              "        vertical-align: top;\n",
              "    }\n",
              "\n",
              "    .dataframe thead th {\n",
              "        text-align: right;\n",
              "    }\n",
              "</style>\n",
              "<table border=\"1\" class=\"dataframe\">\n",
              "  <thead>\n",
              "    <tr style=\"text-align: right;\">\n",
              "      <th></th>\n",
              "      <th>FL_DATE</th>\n",
              "      <th>CARRIER_CODE</th>\n",
              "      <th>TAIL_NUM</th>\n",
              "      <th>FL_NUM</th>\n",
              "      <th>ORIGIN</th>\n",
              "      <th>ORIGIN_ST</th>\n",
              "      <th>DEST</th>\n",
              "      <th>DEST_ST</th>\n",
              "      <th>DEP_TIME</th>\n",
              "      <th>DEP_DELAY</th>\n",
              "      <th>ARR_TIME</th>\n",
              "      <th>ARR_DELAY</th>\n",
              "      <th>ELAPSED_TIME</th>\n",
              "      <th>DISTANCE</th>\n",
              "    </tr>\n",
              "  </thead>\n",
              "  <tbody>\n",
              "    <tr>\n",
              "      <th>34864</th>\n",
              "      <td>2019-10-07</td>\n",
              "      <td>DL</td>\n",
              "      <td>N383DZ</td>\n",
              "      <td>487</td>\n",
              "      <td>LAS</td>\n",
              "      <td>NV</td>\n",
              "      <td>ATL</td>\n",
              "      <td>GA</td>\n",
              "      <td>2400</td>\n",
              "      <td>1</td>\n",
              "      <td>635</td>\n",
              "      <td>0</td>\n",
              "      <td>215</td>\n",
              "      <td>1747</td>\n",
              "    </tr>\n",
              "    <tr>\n",
              "      <th>40416</th>\n",
              "      <td>2019-10-08</td>\n",
              "      <td>AA</td>\n",
              "      <td>N825NN</td>\n",
              "      <td>1542</td>\n",
              "      <td>PHX</td>\n",
              "      <td>AZ</td>\n",
              "      <td>DCA</td>\n",
              "      <td>VA</td>\n",
              "      <td>2400</td>\n",
              "      <td>0</td>\n",
              "      <td>707</td>\n",
              "      <td>0</td>\n",
              "      <td>247</td>\n",
              "      <td>1979</td>\n",
              "    </tr>\n",
              "    <tr>\n",
              "      <th>50938</th>\n",
              "      <td>2019-10-10</td>\n",
              "      <td>DL</td>\n",
              "      <td>N841MH</td>\n",
              "      <td>1362</td>\n",
              "      <td>LAX</td>\n",
              "      <td>CA</td>\n",
              "      <td>JFK</td>\n",
              "      <td>NY</td>\n",
              "      <td>2400</td>\n",
              "      <td>5</td>\n",
              "      <td>817</td>\n",
              "      <td>0</td>\n",
              "      <td>317</td>\n",
              "      <td>2475</td>\n",
              "    </tr>\n",
              "    <tr>\n",
              "      <th>65478</th>\n",
              "      <td>2019-10-13</td>\n",
              "      <td>NK</td>\n",
              "      <td>N627NK</td>\n",
              "      <td>456</td>\n",
              "      <td>LAS</td>\n",
              "      <td>NV</td>\n",
              "      <td>ORD</td>\n",
              "      <td>IL</td>\n",
              "      <td>2400</td>\n",
              "      <td>0</td>\n",
              "      <td>517</td>\n",
              "      <td>0</td>\n",
              "      <td>197</td>\n",
              "      <td>1514</td>\n",
              "    </tr>\n",
              "    <tr>\n",
              "      <th>68336</th>\n",
              "      <td>2019-10-14</td>\n",
              "      <td>DL</td>\n",
              "      <td>N844MH</td>\n",
              "      <td>1362</td>\n",
              "      <td>LAX</td>\n",
              "      <td>CA</td>\n",
              "      <td>JFK</td>\n",
              "      <td>NY</td>\n",
              "      <td>2400</td>\n",
              "      <td>5</td>\n",
              "      <td>803</td>\n",
              "      <td>0</td>\n",
              "      <td>303</td>\n",
              "      <td>2475</td>\n",
              "    </tr>\n",
              "  </tbody>\n",
              "</table>\n",
              "</div>"
            ],
            "text/plain": [
              "         FL_DATE CARRIER_CODE TAIL_NUM FL_NUM ORIGIN ORIGIN_ST DEST DEST_ST  \\\n",
              "34864 2019-10-07           DL   N383DZ    487    LAS        NV  ATL      GA   \n",
              "40416 2019-10-08           AA   N825NN   1542    PHX        AZ  DCA      VA   \n",
              "50938 2019-10-10           DL   N841MH   1362    LAX        CA  JFK      NY   \n",
              "65478 2019-10-13           NK   N627NK    456    LAS        NV  ORD      IL   \n",
              "68336 2019-10-14           DL   N844MH   1362    LAX        CA  JFK      NY   \n",
              "\n",
              "       DEP_TIME  DEP_DELAY  ARR_TIME  ARR_DELAY  ELAPSED_TIME  DISTANCE  \n",
              "34864      2400          1       635          0           215      1747  \n",
              "40416      2400          0       707          0           247      1979  \n",
              "50938      2400          5       817          0           317      2475  \n",
              "65478      2400          0       517          0           197      1514  \n",
              "68336      2400          5       803          0           303      2475  "
            ]
          },
          "execution_count": 29,
          "metadata": {},
          "output_type": "execute_result"
        }
      ],
      "source": [
        "# determine number of rows with invalid DEP_TIME\n",
        "invalid_dep_time_df = df[df[\"DEP_TIME\"] == 2400]\n",
        "print(f\"{invalid_dep_time_df.shape[0]} rows with invalid DEP_TIME values\")\n",
        "# display rows with invalid departure times to verify later\n",
        "invalid_dep_time_df.head()"
      ]
    },
    {
      "cell_type": "markdown",
      "metadata": {},
      "source": [
        "There are 241 rows with invalid departure times."
      ]
    },
    {
      "cell_type": "code",
      "execution_count": 37,
      "metadata": {},
      "outputs": [
        {
          "name": "stdout",
          "output_type": "stream",
          "text": [
            "0 rows with invalid DEP_TIME values\n"
          ]
        }
      ],
      "source": [
        "# update rows with invalid DEP_TIME\n",
        "dep_time_filter = df[\"DEP_TIME\"] == 2400\n",
        "df.loc[dep_time_filter, \"DEP_TIME\"] = 0\n",
        "df.loc[dep_time_filter, \"FL_DATE\"] = df.loc[dep_time_filter, \"FL_DATE\"] + pd.DateOffset(days=1)\n",
        "\n",
        "# verify changes by checking that there are no rows with 2400 as DEP_TIME\n",
        "new_dep_time_df = df[df[\"DEP_TIME\"] == 2400]\n",
        "print(f\"{new_dep_time_df.shape[0]} rows with invalid DEP_TIME values\")"
      ]
    },
    {
      "cell_type": "markdown",
      "metadata": {},
      "source": [
        "There are now 0 rows with invalid departure times."
      ]
    },
    {
      "cell_type": "markdown",
      "metadata": {},
      "source": [
        "The other columns were checked for potential invalid data but no such values were found.  Checked for invalid CARRIER_CODE (not exactly two characters), FL_NUM(not exactly 1 to 4 digits), TAIL_NUM (incorrect format or doesn't start with 'N'), ORIGIN/DEST (not exactly 3 uppercase letters), ORIGIN_ST/DEST_ST (not exactly 2 uppercase letters), and DISTANCE (negative distances).  "
      ]
    },
    {
      "cell_type": "code",
      "execution_count": null,
      "metadata": {},
      "outputs": [],
      "source": [
        "# additional checks here!"
      ]
    },
    {
      "cell_type": "markdown",
      "metadata": {
        "id": "npvyQ3Pa52MT"
      },
      "source": [
        "## Question 3"
      ]
    },
    {
      "cell_type": "markdown",
      "metadata": {},
      "source": [
        "1. Explore patterns in the region i.e. the 3 states (AZ, NV, CA). Determine which region has the most air traffic. Comment on your findings and visualize the results. Note: it's important to explain your rational for determining what is \"the most air traffic\". For example, are you evaluating the frequency of flights or total flight time. Justify your response."
      ]
    },
    {
      "cell_type": "code",
      "execution_count": 47,
      "metadata": {},
      "outputs": [
        {
          "name": "stdout",
          "output_type": "stream",
          "text": [
            "There are 0 rows without an original location or destination of AZ, NV, or CA\n"
          ]
        }
      ],
      "source": [
        "# filter data for AZ, NV, and CA\n",
        "states = ['AZ', 'NV', 'CA']\n",
        "state_filter = df['ORIGIN_ST'].isin(states) | df['DEST_ST'].isin(states)\n",
        "filtered_df = df[state_filter]\n",
        "# verify results by checking how many rows don't have an original location or destination of one of the specified states\n",
        "invalidRows = filtered_df[~df['ORIGIN_ST'].isin(states) & ~df['DEST_ST'].isin(states)].shape[0]\n",
        "print(f\"There are {invalidRows} rows without an original location or destination of AZ, NV, or CA\")"
      ]
    },
    {
      "cell_type": "code",
      "execution_count": 50,
      "metadata": {},
      "outputs": [
        {
          "data": {
            "text/plain": [
              "FL_DATE\n",
              "2020-01-01       1\n",
              "2019-11-28    3547\n",
              "2019-01-19    3822\n",
              "2019-02-02    3829\n",
              "2019-02-09    3980\n",
              "              ... \n",
              "2019-08-08    5628\n",
              "2019-08-16    5647\n",
              "2019-08-12    5661\n",
              "2019-08-05    5675\n",
              "2019-08-09    5693\n",
              "Name: count, Length: 366, dtype: int64"
            ]
          },
          "execution_count": 50,
          "metadata": {},
          "output_type": "execute_result"
        }
      ],
      "source": [
        "# determine time span of data\n",
        "filtered_df['FL_DATE'].value_counts(ascending=True)"
      ]
    },
    {
      "cell_type": "markdown",
      "metadata": {},
      "source": [
        "**Criteria For Most Air Traffic**\n",
        "<br></br>\n",
        "The region with the most air traffice will be determined by analyzing the frequency of flights that have arrived at that region and the frequency of flights that have departed from that region between August 9, 2019 and January 1, 2020.  The number of incoming and outgoing flights per day from each region will be analyzed in particular."
      ]
    },
    {
      "cell_type": "code",
      "execution_count": 97,
      "metadata": {},
      "outputs": [
        {
          "data": {
            "text/html": [
              "<div>\n",
              "<style scoped>\n",
              "    .dataframe tbody tr th:only-of-type {\n",
              "        vertical-align: middle;\n",
              "    }\n",
              "\n",
              "    .dataframe tbody tr th {\n",
              "        vertical-align: top;\n",
              "    }\n",
              "\n",
              "    .dataframe thead th {\n",
              "        text-align: right;\n",
              "    }\n",
              "</style>\n",
              "<table border=\"1\" class=\"dataframe\">\n",
              "  <thead>\n",
              "    <tr style=\"text-align: right;\">\n",
              "      <th></th>\n",
              "      <th>FL_DATE</th>\n",
              "      <th>CARRIER_CODE</th>\n",
              "      <th>TAIL_NUM</th>\n",
              "      <th>FL_NUM</th>\n",
              "      <th>ORIGIN</th>\n",
              "      <th>ORIGIN_ST</th>\n",
              "      <th>DEST</th>\n",
              "      <th>DEST_ST</th>\n",
              "      <th>DEP_TIME</th>\n",
              "      <th>DEP_DELAY</th>\n",
              "      <th>ARR_TIME</th>\n",
              "      <th>ARR_DELAY</th>\n",
              "      <th>ELAPSED_TIME</th>\n",
              "      <th>DISTANCE</th>\n",
              "    </tr>\n",
              "  </thead>\n",
              "  <tbody>\n",
              "    <tr>\n",
              "      <th>0</th>\n",
              "      <td>2019-10-01</td>\n",
              "      <td>AA</td>\n",
              "      <td>N916NN</td>\n",
              "      <td>2311</td>\n",
              "      <td>TUS</td>\n",
              "      <td>AZ</td>\n",
              "      <td>ORD</td>\n",
              "      <td>IL</td>\n",
              "      <td>828</td>\n",
              "      <td>0</td>\n",
              "      <td>1353</td>\n",
              "      <td>0</td>\n",
              "      <td>205</td>\n",
              "      <td>1437</td>\n",
              "    </tr>\n",
              "    <tr>\n",
              "      <th>1</th>\n",
              "      <td>2019-10-01</td>\n",
              "      <td>AA</td>\n",
              "      <td>N733UW</td>\n",
              "      <td>2315</td>\n",
              "      <td>PHX</td>\n",
              "      <td>AZ</td>\n",
              "      <td>DEN</td>\n",
              "      <td>CO</td>\n",
              "      <td>1907</td>\n",
              "      <td>0</td>\n",
              "      <td>2159</td>\n",
              "      <td>0</td>\n",
              "      <td>112</td>\n",
              "      <td>602</td>\n",
              "    </tr>\n",
              "    <tr>\n",
              "      <th>5</th>\n",
              "      <td>2019-10-01</td>\n",
              "      <td>AA</td>\n",
              "      <td>N816NN</td>\n",
              "      <td>2339</td>\n",
              "      <td>PHX</td>\n",
              "      <td>AZ</td>\n",
              "      <td>JFK</td>\n",
              "      <td>NY</td>\n",
              "      <td>911</td>\n",
              "      <td>0</td>\n",
              "      <td>1702</td>\n",
              "      <td>0</td>\n",
              "      <td>291</td>\n",
              "      <td>2153</td>\n",
              "    </tr>\n",
              "    <tr>\n",
              "      <th>10</th>\n",
              "      <td>2019-10-01</td>\n",
              "      <td>AA</td>\n",
              "      <td>N982AN</td>\n",
              "      <td>2369</td>\n",
              "      <td>JFK</td>\n",
              "      <td>NY</td>\n",
              "      <td>PHX</td>\n",
              "      <td>AZ</td>\n",
              "      <td>1053</td>\n",
              "      <td>0</td>\n",
              "      <td>1250</td>\n",
              "      <td>0</td>\n",
              "      <td>297</td>\n",
              "      <td>2153</td>\n",
              "    </tr>\n",
              "    <tr>\n",
              "      <th>11</th>\n",
              "      <td>2019-10-01</td>\n",
              "      <td>AA</td>\n",
              "      <td>N177US</td>\n",
              "      <td>2371</td>\n",
              "      <td>EWR</td>\n",
              "      <td>NJ</td>\n",
              "      <td>PHX</td>\n",
              "      <td>AZ</td>\n",
              "      <td>941</td>\n",
              "      <td>0</td>\n",
              "      <td>1155</td>\n",
              "      <td>0</td>\n",
              "      <td>314</td>\n",
              "      <td>2133</td>\n",
              "    </tr>\n",
              "  </tbody>\n",
              "</table>\n",
              "</div>"
            ],
            "text/plain": [
              "      FL_DATE CARRIER_CODE TAIL_NUM FL_NUM ORIGIN ORIGIN_ST DEST DEST_ST  \\\n",
              "0  2019-10-01           AA   N916NN   2311    TUS        AZ  ORD      IL   \n",
              "1  2019-10-01           AA   N733UW   2315    PHX        AZ  DEN      CO   \n",
              "5  2019-10-01           AA   N816NN   2339    PHX        AZ  JFK      NY   \n",
              "10 2019-10-01           AA   N982AN   2369    JFK        NY  PHX      AZ   \n",
              "11 2019-10-01           AA   N177US   2371    EWR        NJ  PHX      AZ   \n",
              "\n",
              "    DEP_TIME  DEP_DELAY  ARR_TIME  ARR_DELAY  ELAPSED_TIME  DISTANCE  \n",
              "0        828          0      1353          0           205      1437  \n",
              "1       1907          0      2159          0           112       602  \n",
              "5        911          0      1702          0           291      2153  \n",
              "10      1053          0      1250          0           297      2153  \n",
              "11       941          0      1155          0           314      2133  "
            ]
          },
          "execution_count": 97,
          "metadata": {},
          "output_type": "execute_result"
        }
      ],
      "source": [
        "# airport data from AZ\n",
        "az_filter = df['ORIGIN_ST'].isin(['AZ']) | df['DEST_ST'].isin(['AZ'])\n",
        "az_airport_df = filtered_df[az_filter]\n",
        "az_airport_df.head()"
      ]
    },
    {
      "cell_type": "code",
      "execution_count": 82,
      "metadata": {},
      "outputs": [
        {
          "name": "stdout",
          "output_type": "stream",
          "text": [
            "201744 flights arrived at AZ in past year\n"
          ]
        }
      ],
      "source": [
        "# number of flights that arrived at AZ in past year\n",
        "az_airport_df_arrival = az_airport_df[az_airport_df[\"DEST_ST\"] == 'AZ']\n",
        "print(f\"{az_airport_df_arrival.shape[0]} flights arrived at AZ in past year\")"
      ]
    },
    {
      "cell_type": "code",
      "execution_count": 95,
      "metadata": {},
      "outputs": [],
      "source": [
        "# count number of flights per day that arrive at AZ\n",
        "az_arrival_flights_per_day = az_airport_df_arrival.groupby(\"FL_DATE\").size()"
      ]
    },
    {
      "cell_type": "markdown",
      "metadata": {},
      "source": [
        "**AZ Arrival Flights Per Day Statistics**"
      ]
    },
    {
      "cell_type": "code",
      "execution_count": 110,
      "metadata": {},
      "outputs": [
        {
          "name": "stdout",
          "output_type": "stream",
          "text": [
            "AZ Arrival Flights Per Day Statistics:\n",
            "mean: 552.7232876712329\n",
            "median: 556.0\n",
            "mode: 576\n",
            "std: 42.88923415898145\n"
          ]
        }
      ],
      "source": [
        "# calculate statistics for flight frequencies\n",
        "az_mean_arrival_flights = az_arrival_flights_per_day.mean()\n",
        "az_median_arrival_flights = az_arrival_flights_per_day.median()\n",
        "az_mode_arrival_flights = az_arrival_flights_per_day.mode().iloc[0]\n",
        "az_std_arrival_flights = az_arrival_flights_per_day.std()\n",
        "print(\"AZ Arrival Flights Per Day Statistics:\")\n",
        "print(f\"mean: {az_mean_arrival_flights}\")\n",
        "print(f\"median: {az_median_arrival_flights}\")\n",
        "print(f\"mode: {az_mode_arrival_flights}\")\n",
        "print(f\"std: {az_std_arrival_flights}\")"
      ]
    },
    {
      "cell_type": "code",
      "execution_count": 84,
      "metadata": {},
      "outputs": [
        {
          "name": "stdout",
          "output_type": "stream",
          "text": [
            "201804 flights departed from AZ in past year\n"
          ]
        }
      ],
      "source": [
        "# number of flights that departed from AZ in past year\n",
        "az_airport_df_departure = az_airport_df[az_airport_df[\"ORIGIN_ST\"] == 'AZ']\n",
        "print(f\"{az_airport_df_departure.shape[0]} flights departed from AZ in past year\")"
      ]
    },
    {
      "cell_type": "code",
      "execution_count": 98,
      "metadata": {},
      "outputs": [],
      "source": [
        "# count number of flights per day that depart from AZ\n",
        "az_departure_flights_per_day = az_airport_df_departure.groupby(\"FL_DATE\").size()"
      ]
    },
    {
      "cell_type": "markdown",
      "metadata": {},
      "source": [
        "**AZ Departure Flights Per Day Statistics**"
      ]
    },
    {
      "cell_type": "code",
      "execution_count": 111,
      "metadata": {},
      "outputs": [
        {
          "name": "stdout",
          "output_type": "stream",
          "text": [
            "AZ Departure Flights Per Day Statistics:\n",
            "mean: 552.8876712328768\n",
            "median: 556.0\n",
            "mode: 571\n",
            "std: 42.849096138560675\n"
          ]
        }
      ],
      "source": [
        "# calculate statistics for flight frequencies\n",
        "az_mean_departure_flights = az_departure_flights_per_day.mean()\n",
        "az_median_departure_flights = az_departure_flights_per_day.median()\n",
        "az_mode_departure_flights = az_departure_flights_per_day.mode().iloc[0]\n",
        "az_std_departure_flights = az_departure_flights_per_day.std()\n",
        "print(\"AZ Departure Flights Per Day Statistics:\")\n",
        "print(f\"mean: {az_mean_departure_flights}\")\n",
        "print(f\"median: {az_median_departure_flights}\")\n",
        "print(f\"mode: {az_mode_departure_flights}\")\n",
        "print(f\"std: {az_std_departure_flights}\")"
      ]
    },
    {
      "cell_type": "code",
      "execution_count": 56,
      "metadata": {},
      "outputs": [
        {
          "data": {
            "text/html": [
              "<div>\n",
              "<style scoped>\n",
              "    .dataframe tbody tr th:only-of-type {\n",
              "        vertical-align: middle;\n",
              "    }\n",
              "\n",
              "    .dataframe tbody tr th {\n",
              "        vertical-align: top;\n",
              "    }\n",
              "\n",
              "    .dataframe thead th {\n",
              "        text-align: right;\n",
              "    }\n",
              "</style>\n",
              "<table border=\"1\" class=\"dataframe\">\n",
              "  <thead>\n",
              "    <tr style=\"text-align: right;\">\n",
              "      <th></th>\n",
              "      <th>FL_DATE</th>\n",
              "      <th>CARRIER_CODE</th>\n",
              "      <th>TAIL_NUM</th>\n",
              "      <th>FL_NUM</th>\n",
              "      <th>ORIGIN</th>\n",
              "      <th>ORIGIN_ST</th>\n",
              "      <th>DEST</th>\n",
              "      <th>DEST_ST</th>\n",
              "      <th>DEP_TIME</th>\n",
              "      <th>DEP_DELAY</th>\n",
              "      <th>ARR_TIME</th>\n",
              "      <th>ARR_DELAY</th>\n",
              "      <th>ELAPSED_TIME</th>\n",
              "      <th>DISTANCE</th>\n",
              "    </tr>\n",
              "  </thead>\n",
              "  <tbody>\n",
              "    <tr>\n",
              "      <th>14</th>\n",
              "      <td>2019-10-01</td>\n",
              "      <td>AA</td>\n",
              "      <td>N352PS</td>\n",
              "      <td>2390</td>\n",
              "      <td>DFW</td>\n",
              "      <td>TX</td>\n",
              "      <td>LAS</td>\n",
              "      <td>NV</td>\n",
              "      <td>2225</td>\n",
              "      <td>0</td>\n",
              "      <td>2310</td>\n",
              "      <td>0</td>\n",
              "      <td>165</td>\n",
              "      <td>1055</td>\n",
              "    </tr>\n",
              "    <tr>\n",
              "      <th>16</th>\n",
              "      <td>2019-10-01</td>\n",
              "      <td>AA</td>\n",
              "      <td>N953NN</td>\n",
              "      <td>2407</td>\n",
              "      <td>LAS</td>\n",
              "      <td>NV</td>\n",
              "      <td>ORD</td>\n",
              "      <td>IL</td>\n",
              "      <td>1143</td>\n",
              "      <td>0</td>\n",
              "      <td>1716</td>\n",
              "      <td>0</td>\n",
              "      <td>213</td>\n",
              "      <td>1514</td>\n",
              "    </tr>\n",
              "    <tr>\n",
              "      <th>22</th>\n",
              "      <td>2019-10-01</td>\n",
              "      <td>AA</td>\n",
              "      <td>N922AN</td>\n",
              "      <td>2427</td>\n",
              "      <td>ORD</td>\n",
              "      <td>IL</td>\n",
              "      <td>RNO</td>\n",
              "      <td>NV</td>\n",
              "      <td>1216</td>\n",
              "      <td>0</td>\n",
              "      <td>1432</td>\n",
              "      <td>0</td>\n",
              "      <td>256</td>\n",
              "      <td>1671</td>\n",
              "    </tr>\n",
              "    <tr>\n",
              "      <th>23</th>\n",
              "      <td>2019-10-01</td>\n",
              "      <td>AA</td>\n",
              "      <td>N922AN</td>\n",
              "      <td>2427</td>\n",
              "      <td>RNO</td>\n",
              "      <td>NV</td>\n",
              "      <td>ORD</td>\n",
              "      <td>IL</td>\n",
              "      <td>1523</td>\n",
              "      <td>0</td>\n",
              "      <td>2143</td>\n",
              "      <td>18</td>\n",
              "      <td>260</td>\n",
              "      <td>1671</td>\n",
              "    </tr>\n",
              "    <tr>\n",
              "      <th>28</th>\n",
              "      <td>2019-10-01</td>\n",
              "      <td>AA</td>\n",
              "      <td>N305NX</td>\n",
              "      <td>2448</td>\n",
              "      <td>DFW</td>\n",
              "      <td>TX</td>\n",
              "      <td>RNO</td>\n",
              "      <td>NV</td>\n",
              "      <td>1722</td>\n",
              "      <td>0</td>\n",
              "      <td>1839</td>\n",
              "      <td>0</td>\n",
              "      <td>197</td>\n",
              "      <td>1345</td>\n",
              "    </tr>\n",
              "  </tbody>\n",
              "</table>\n",
              "</div>"
            ],
            "text/plain": [
              "      FL_DATE CARRIER_CODE TAIL_NUM FL_NUM ORIGIN ORIGIN_ST DEST DEST_ST  \\\n",
              "14 2019-10-01           AA   N352PS   2390    DFW        TX  LAS      NV   \n",
              "16 2019-10-01           AA   N953NN   2407    LAS        NV  ORD      IL   \n",
              "22 2019-10-01           AA   N922AN   2427    ORD        IL  RNO      NV   \n",
              "23 2019-10-01           AA   N922AN   2427    RNO        NV  ORD      IL   \n",
              "28 2019-10-01           AA   N305NX   2448    DFW        TX  RNO      NV   \n",
              "\n",
              "    DEP_TIME  DEP_DELAY  ARR_TIME  ARR_DELAY  ELAPSED_TIME  DISTANCE  \n",
              "14      2225          0      2310          0           165      1055  \n",
              "16      1143          0      1716          0           213      1514  \n",
              "22      1216          0      1432          0           256      1671  \n",
              "23      1523          0      2143         18           260      1671  \n",
              "28      1722          0      1839          0           197      1345  "
            ]
          },
          "execution_count": 56,
          "metadata": {},
          "output_type": "execute_result"
        }
      ],
      "source": [
        "# airport data from NV\n",
        "nv_filter = df['ORIGIN_ST'].isin(['NV']) | df['DEST_ST'].isin(['NV'])\n",
        "nv_airport_df = filtered_df[nv_filter]\n",
        "nv_airport_df.head()"
      ]
    },
    {
      "cell_type": "code",
      "execution_count": 89,
      "metadata": {},
      "outputs": [
        {
          "name": "stdout",
          "output_type": "stream",
          "text": [
            "182115 flights arrived at NV in past year\n"
          ]
        }
      ],
      "source": [
        "# number of flights that arrived at NV in past year\n",
        "nv_airport_df_arrival = nv_airport_df[nv_airport_df[\"DEST_ST\"] == 'NV']\n",
        "print(f\"{nv_airport_df_arrival.shape[0]} flights arrived at NV in past year\")"
      ]
    },
    {
      "cell_type": "code",
      "execution_count": 99,
      "metadata": {},
      "outputs": [],
      "source": [
        "# count number of flights per day that arrive at NV\n",
        "nv_arrival_flights_per_day = nv_airport_df_arrival.groupby(\"FL_DATE\").size()"
      ]
    },
    {
      "cell_type": "markdown",
      "metadata": {},
      "source": [
        "**NV Arrival Flights Per Day Statistics:**"
      ]
    },
    {
      "cell_type": "code",
      "execution_count": 112,
      "metadata": {},
      "outputs": [
        {
          "name": "stdout",
          "output_type": "stream",
          "text": [
            "NV Arrival Flights Per Day Statistics:\n",
            "mean: 498.94520547945206\n",
            "median: 505.0\n",
            "mode: 501\n",
            "std: 43.27851610608923\n"
          ]
        }
      ],
      "source": [
        "# calculate statistics for flight frequencies\n",
        "nv_mean_arrival_flights = nv_arrival_flights_per_day.mean()\n",
        "nv_median_arrival_flights = nv_arrival_flights_per_day.median()\n",
        "nv_mode_arrival_flights = nv_arrival_flights_per_day.mode().iloc[0]\n",
        "nv_std_arrival_flights = nv_arrival_flights_per_day.std()\n",
        "print(\"NV Arrival Flights Per Day Statistics:\")\n",
        "print(f\"mean: {nv_mean_arrival_flights}\")\n",
        "print(f\"median: {nv_median_arrival_flights}\")\n",
        "print(f\"mode: {nv_mode_arrival_flights}\")\n",
        "print(f\"std: {nv_std_arrival_flights}\")"
      ]
    },
    {
      "cell_type": "code",
      "execution_count": 93,
      "metadata": {},
      "outputs": [
        {
          "name": "stdout",
          "output_type": "stream",
          "text": [
            "181985 flights departed from NV in past year\n"
          ]
        }
      ],
      "source": [
        "# number of flights that departed from NV in past year\n",
        "nv_airport_df_departure = nv_airport_df[nv_airport_df[\"ORIGIN_ST\"] == 'NV']\n",
        "print(f\"{nv_airport_df_departure.shape[0]} flights departed from NV in past year\")"
      ]
    },
    {
      "cell_type": "code",
      "execution_count": null,
      "metadata": {},
      "outputs": [],
      "source": [
        "# count number of flights per day that depart from NV\n",
        "nv_departure_flights_per_day = nv_airport_df_departure.groupby(\"FL_DATE\").size()"
      ]
    },
    {
      "cell_type": "markdown",
      "metadata": {},
      "source": [
        "**NV Departure Flights Per Day Statistics**"
      ]
    },
    {
      "cell_type": "code",
      "execution_count": 113,
      "metadata": {},
      "outputs": [
        {
          "name": "stdout",
          "output_type": "stream",
          "text": [
            "NV Departure Flights Per Day Statistics:\n",
            "mean: 498.5890410958904\n",
            "median: 505.0\n",
            "mode: 536\n",
            "std: 42.593670406450784\n"
          ]
        }
      ],
      "source": [
        "# calculate statistics for flight frequencies\n",
        "nv_mean_departure_flights = nv_departure_flights_per_day.mean()\n",
        "nv_median_departure_flights = nv_departure_flights_per_day.median()\n",
        "nv_mode_departure_flights = nv_departure_flights_per_day.mode().iloc[0]\n",
        "nv_std_departure_flights = nv_departure_flights_per_day.std()\n",
        "print(\"NV Departure Flights Per Day Statistics:\")\n",
        "print(f\"mean: {nv_mean_departure_flights}\")\n",
        "print(f\"median: {nv_median_departure_flights}\")\n",
        "print(f\"mode: {nv_mode_departure_flights}\")\n",
        "print(f\"std: {nv_std_departure_flights}\")"
      ]
    },
    {
      "cell_type": "code",
      "execution_count": 57,
      "metadata": {},
      "outputs": [
        {
          "data": {
            "text/html": [
              "<div>\n",
              "<style scoped>\n",
              "    .dataframe tbody tr th:only-of-type {\n",
              "        vertical-align: middle;\n",
              "    }\n",
              "\n",
              "    .dataframe tbody tr th {\n",
              "        vertical-align: top;\n",
              "    }\n",
              "\n",
              "    .dataframe thead th {\n",
              "        text-align: right;\n",
              "    }\n",
              "</style>\n",
              "<table border=\"1\" class=\"dataframe\">\n",
              "  <thead>\n",
              "    <tr style=\"text-align: right;\">\n",
              "      <th></th>\n",
              "      <th>FL_DATE</th>\n",
              "      <th>CARRIER_CODE</th>\n",
              "      <th>TAIL_NUM</th>\n",
              "      <th>FL_NUM</th>\n",
              "      <th>ORIGIN</th>\n",
              "      <th>ORIGIN_ST</th>\n",
              "      <th>DEST</th>\n",
              "      <th>DEST_ST</th>\n",
              "      <th>DEP_TIME</th>\n",
              "      <th>DEP_DELAY</th>\n",
              "      <th>ARR_TIME</th>\n",
              "      <th>ARR_DELAY</th>\n",
              "      <th>ELAPSED_TIME</th>\n",
              "      <th>DISTANCE</th>\n",
              "    </tr>\n",
              "  </thead>\n",
              "  <tbody>\n",
              "    <tr>\n",
              "      <th>2</th>\n",
              "      <td>2019-10-01</td>\n",
              "      <td>AA</td>\n",
              "      <td>N140AN</td>\n",
              "      <td>2318</td>\n",
              "      <td>DFW</td>\n",
              "      <td>TX</td>\n",
              "      <td>LAX</td>\n",
              "      <td>CA</td>\n",
              "      <td>1904</td>\n",
              "      <td>104</td>\n",
              "      <td>2016</td>\n",
              "      <td>101</td>\n",
              "      <td>192</td>\n",
              "      <td>1235</td>\n",
              "    </tr>\n",
              "    <tr>\n",
              "      <th>3</th>\n",
              "      <td>2019-10-01</td>\n",
              "      <td>AA</td>\n",
              "      <td>N925AN</td>\n",
              "      <td>2325</td>\n",
              "      <td>SNA</td>\n",
              "      <td>CA</td>\n",
              "      <td>DFW</td>\n",
              "      <td>TX</td>\n",
              "      <td>1729</td>\n",
              "      <td>4</td>\n",
              "      <td>2215</td>\n",
              "      <td>3</td>\n",
              "      <td>166</td>\n",
              "      <td>1205</td>\n",
              "    </tr>\n",
              "    <tr>\n",
              "      <th>4</th>\n",
              "      <td>2019-10-01</td>\n",
              "      <td>AA</td>\n",
              "      <td>N143AN</td>\n",
              "      <td>2328</td>\n",
              "      <td>ATL</td>\n",
              "      <td>GA</td>\n",
              "      <td>LAX</td>\n",
              "      <td>CA</td>\n",
              "      <td>656</td>\n",
              "      <td>0</td>\n",
              "      <td>841</td>\n",
              "      <td>0</td>\n",
              "      <td>285</td>\n",
              "      <td>1947</td>\n",
              "    </tr>\n",
              "    <tr>\n",
              "      <th>6</th>\n",
              "      <td>2019-10-01</td>\n",
              "      <td>AA</td>\n",
              "      <td>N150NN</td>\n",
              "      <td>2349</td>\n",
              "      <td>LAX</td>\n",
              "      <td>CA</td>\n",
              "      <td>BOS</td>\n",
              "      <td>MA</td>\n",
              "      <td>2149</td>\n",
              "      <td>0</td>\n",
              "      <td>559</td>\n",
              "      <td>0</td>\n",
              "      <td>310</td>\n",
              "      <td>2611</td>\n",
              "    </tr>\n",
              "    <tr>\n",
              "      <th>7</th>\n",
              "      <td>2019-10-01</td>\n",
              "      <td>AA</td>\n",
              "      <td>N994AN</td>\n",
              "      <td>2354</td>\n",
              "      <td>LAX</td>\n",
              "      <td>CA</td>\n",
              "      <td>DFW</td>\n",
              "      <td>TX</td>\n",
              "      <td>1128</td>\n",
              "      <td>0</td>\n",
              "      <td>1620</td>\n",
              "      <td>0</td>\n",
              "      <td>172</td>\n",
              "      <td>1235</td>\n",
              "    </tr>\n",
              "  </tbody>\n",
              "</table>\n",
              "</div>"
            ],
            "text/plain": [
              "     FL_DATE CARRIER_CODE TAIL_NUM FL_NUM ORIGIN ORIGIN_ST DEST DEST_ST  \\\n",
              "2 2019-10-01           AA   N140AN   2318    DFW        TX  LAX      CA   \n",
              "3 2019-10-01           AA   N925AN   2325    SNA        CA  DFW      TX   \n",
              "4 2019-10-01           AA   N143AN   2328    ATL        GA  LAX      CA   \n",
              "6 2019-10-01           AA   N150NN   2349    LAX        CA  BOS      MA   \n",
              "7 2019-10-01           AA   N994AN   2354    LAX        CA  DFW      TX   \n",
              "\n",
              "   DEP_TIME  DEP_DELAY  ARR_TIME  ARR_DELAY  ELAPSED_TIME  DISTANCE  \n",
              "2      1904        104      2016        101           192      1235  \n",
              "3      1729          4      2215          3           166      1205  \n",
              "4       656          0       841          0           285      1947  \n",
              "6      2149          0       559          0           310      2611  \n",
              "7      1128          0      1620          0           172      1235  "
            ]
          },
          "execution_count": 57,
          "metadata": {},
          "output_type": "execute_result"
        }
      ],
      "source": [
        "# airport data from CA\n",
        "ca_filter = df['ORIGIN_ST'].isin(['CA']) | df['DEST_ST'].isin(['CA'])\n",
        "ca_airport_df = filtered_df[ca_filter]\n",
        "ca_airport_df.head()"
      ]
    },
    {
      "cell_type": "code",
      "execution_count": 104,
      "metadata": {},
      "outputs": [
        {
          "name": "stdout",
          "output_type": "stream",
          "text": [
            "799137 flights arrived at CA in past year\n"
          ]
        }
      ],
      "source": [
        "# number of flights that arrived at CA in past year\n",
        "ca_airport_df_arrival = ca_airport_df[ca_airport_df[\"DEST_ST\"] == 'CA']\n",
        "print(f\"{ca_airport_df_arrival.shape[0]} flights arrived at CA in past year\")"
      ]
    },
    {
      "cell_type": "code",
      "execution_count": 105,
      "metadata": {},
      "outputs": [],
      "source": [
        "# count number of flights per day that arrive at AZ\n",
        "ca_arrival_flights_per_day = ca_airport_df_arrival.groupby(\"FL_DATE\").size()"
      ]
    },
    {
      "cell_type": "markdown",
      "metadata": {},
      "source": [
        "**CA Arrival Flights Per Day Statistics:**"
      ]
    },
    {
      "cell_type": "code",
      "execution_count": 114,
      "metadata": {},
      "outputs": [
        {
          "name": "stdout",
          "output_type": "stream",
          "text": [
            "CA Arrival Flights Per Day Statistics:\n",
            "mean: 2183.434426229508\n",
            "median: 2218.5\n",
            "mode: 2184\n",
            "std: 223.8513690249122\n"
          ]
        }
      ],
      "source": [
        "# calculate statistics for flight frequencies\n",
        "ca_mean_arrival_flights = ca_arrival_flights_per_day.mean()\n",
        "ca_median_arrival_flights = ca_arrival_flights_per_day.median()\n",
        "ca_mode_arrival_flights = ca_arrival_flights_per_day.mode().iloc[0]\n",
        "ca_std_arrival_flights = ca_arrival_flights_per_day.std()\n",
        "print(\"CA Arrival Flights Per Day Statistics:\")\n",
        "print(f\"mean: {ca_mean_arrival_flights}\")\n",
        "print(f\"median: {ca_median_arrival_flights}\")\n",
        "print(f\"mode: {ca_mode_arrival_flights}\")\n",
        "print(f\"std: {ca_std_arrival_flights}\")"
      ]
    },
    {
      "cell_type": "code",
      "execution_count": 107,
      "metadata": {},
      "outputs": [
        {
          "name": "stdout",
          "output_type": "stream",
          "text": [
            "798690 flights departed from CA in past year\n"
          ]
        }
      ],
      "source": [
        "# number of flights that departed from AZ in past year\n",
        "ca_airport_df_departure = ca_airport_df[ca_airport_df[\"ORIGIN_ST\"] == 'CA']\n",
        "print(f\"{ca_airport_df_departure.shape[0]} flights departed from CA in past year\")"
      ]
    },
    {
      "cell_type": "code",
      "execution_count": 108,
      "metadata": {},
      "outputs": [],
      "source": [
        "# count number of flights per day that depart from CA\n",
        "ca_departure_flights_per_day = ca_airport_df_departure.groupby(\"FL_DATE\").size()"
      ]
    },
    {
      "cell_type": "markdown",
      "metadata": {},
      "source": [
        "**CA Departure Flights Per Day Statistics**"
      ]
    },
    {
      "cell_type": "code",
      "execution_count": 115,
      "metadata": {},
      "outputs": [
        {
          "name": "stdout",
          "output_type": "stream",
          "text": [
            "CA Departure Flights Per Day Statistics:\n",
            "mean: 2188.1917808219177\n",
            "median: 2226.0\n",
            "mode: 2291\n",
            "std: 193.2162468948397\n"
          ]
        }
      ],
      "source": [
        "# calculate statistics for flight frequencies\n",
        "ca_mean_departure_flights = ca_departure_flights_per_day.mean()\n",
        "ca_median_departure_flights = ca_departure_flights_per_day.median()\n",
        "ca_mode_departure_flights = ca_departure_flights_per_day.mode().iloc[0]\n",
        "ca_std_departure_flights = ca_departure_flights_per_day.std()\n",
        "print(\"CA Departure Flights Per Day Statistics:\")\n",
        "print(f\"mean: {ca_mean_departure_flights}\")\n",
        "print(f\"median: {ca_median_departure_flights}\")\n",
        "print(f\"mode: {ca_mode_departure_flights}\")\n",
        "print(f\"std: {ca_std_departure_flights}\")"
      ]
    },
    {
      "cell_type": "markdown",
      "metadata": {},
      "source": [
        "**Visualize AZ, NV, and CA Flights Per Day**"
      ]
    },
    {
      "cell_type": "code",
      "execution_count": 121,
      "metadata": {},
      "outputs": [],
      "source": [
        "flights_per_day_arrival = {\n",
        "    'State': ['AZ', 'NV', 'CA'],\n",
        "    'Mean': [az_mean_arrival_flights, nv_mean_arrival_flights, ca_mean_arrival_flights],\n",
        "    'Median': [az_median_arrival_flights, nv_median_arrival_flights, ca_median_arrival_flights],\n",
        "    'Mode': [az_mode_arrival_flights, nv_mode_arrival_flights, ca_mode_arrival_flights],\n",
        "    'Std Dev': [az_std_arrival_flights, nv_std_arrival_flights, ca_std_arrival_flights]\n",
        "}\n",
        "\n",
        "flights_per_day_departure = {\n",
        "    'State': ['AZ', 'NV', 'CA'],\n",
        "    'Mean': [az_mean_departure_flights, nv_mean_departure_flights, ca_mean_departure_flights],\n",
        "    'Median': [az_median_departure_flights, nv_median_departure_flights, ca_median_departure_flights],\n",
        "    'Mode': [az_mode_departure_flights, nv_mode_departure_flights, ca_mode_departure_flights],\n",
        "    'Std Dev': [az_std_departure_flights, nv_std_departure_flights, ca_std_departure_flights]\n",
        "}\n",
        "\n",
        "flights_per_day_arrival_df = pd.DataFrame(flights_per_day_arrival)\n",
        "flights_per_day_departure_df = pd.DataFrame(flights_per_day_departure)"
      ]
    },
    {
      "cell_type": "markdown",
      "metadata": {},
      "source": [
        "**Flights Per Day Arrival**"
      ]
    },
    {
      "cell_type": "code",
      "execution_count": 125,
      "metadata": {},
      "outputs": [
        {
          "data": {
            "text/plain": [
              "<Axes: title={'center': 'Daily Flights Per Region'}, xlabel='Region', ylabel='Flights'>"
            ]
          },
          "execution_count": 125,
          "metadata": {},
          "output_type": "execute_result"
        },
        {
          "data": {
            "image/png": "[encoded data removed]",
            "text/plain": [
              "<Figure size 640x480 with 1 Axes>"
            ]
          },
          "metadata": {},
          "output_type": "display_data"
        }
      ],
      "source": [
        "flights_per_day_arrival_df.index = ['AZ', 'NV', 'CA']\n",
        "flights_per_day_arrival_df.plot(kind=\"bar\", title=\"Daily Arrival Flights Per Region\", xlabel=\"Region\", ylabel=\"Flights\")"
      ]
    },
    {
      "cell_type": "markdown",
      "metadata": {},
      "source": [
        "**Flights Per Day Departure**"
      ]
    },
    {
      "cell_type": "code",
      "execution_count": 126,
      "metadata": {},
      "outputs": [
        {
          "data": {
            "text/plain": [
              "<Axes: title={'center': 'Daily Departure Flights Per Region'}, xlabel='Region', ylabel='Flights'>"
            ]
          },
          "execution_count": 126,
          "metadata": {},
          "output_type": "execute_result"
        },
        {
          "data": {
            "image/png": "[encoded data removed]",
            "text/plain": [
              "<Figure size 640x480 with 1 Axes>"
            ]
          },
          "metadata": {},
          "output_type": "display_data"
        }
      ],
      "source": [
        "flights_per_day_departure_df.index = ['AZ', 'NV', 'CA']\n",
        "flights_per_day_departure_df.plot(kind=\"bar\", title=\"Daily Departure Flights Per Region\", xlabel=\"Region\", ylabel=\"Flights\")"
      ]
    },
    {
      "cell_type": "markdown",
      "metadata": {},
      "source": [
        "**Analysis**"
      ]
    },
    {
      "cell_type": "markdown",
      "metadata": {},
      "source": [
        "Based on the provided data, CA has the most air traffic as it has the greatest average arrival and departure flights per day.  CA has an average of 2183 arrival and and 2188 departure flights daily.  AZ has an average of 552 arrival and 552 departure flights daily, while NV has an average of 498 arrival and 498 departure flights daily.\n",
        "\n",
        "Based on the graph results, CA clearly dominates in terms of number of flights and has a greater standard deviation, indicating more daily variability than the other two regions.  AZ and NV have similar means and medians with low standard deviations, implying more consistent day to day air traffic.  Since the mean, median, and mode are similar for all regions in terms of arrival and departure flights per day, this means that there are no extreme daily flight flight values affecting the average.\n",
        "\n",
        "In terms of total number of flights, AZ, NV, and CA had 201744, 182115, and 798690 arrival flights in the past year respectively.  AZ, NV, and CA had 201804, 181985, and 799137 departure flights in the past year respectively.  This further proves that CA has the greatest air traffic, followed by AZ and then NV based on measures of daily fights.  \n"
      ]
    },
    {
      "cell_type": "markdown",
      "metadata": {
        "id": "uQ7Zqu-V6Mp9"
      },
      "source": [
        "## Question 4"
      ]
    },
    {
      "cell_type": "markdown",
      "metadata": {
        "id": "U8-oFhy_6UAi"
      },
      "source": [
        "## Question 5"
      ]
    },
    {
      "cell_type": "markdown",
      "metadata": {
        "id": "5tMBIfpo6VP5"
      },
      "source": [
        "## Question 6"
      ]
    },
    {
      "cell_type": "markdown",
      "metadata": {
        "id": "VIf98t557G3d"
      },
      "source": [
        "## Question 7"
      ]
    }
  ],
  "metadata": {
    "colab": {
      "provenance": []
    },
    "kernelspec": {
      "display_name": "Python 3",
      "name": "python3"
    },
    "language_info": {
      "codemirror_mode": {
        "name": "ipython",
        "version": 3
      },
      "file_extension": ".py",
      "mimetype": "text/x-python",
      "name": "python",
      "nbconvert_exporter": "python",
      "pygments_lexer": "ipython3",
      "version": "3.12.1"
    }
  },
  "nbformat": 4,
  "nbformat_minor": 0
}
