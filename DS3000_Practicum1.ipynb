{
  "cells": [
    {
      "cell_type": "markdown",
      "metadata": {},
      "source": [
        "# DS Practicum 1"
      ]
    },
    {
      "cell_type": "markdown",
      "metadata": {},
      "source": [
        "## Question 1"
      ]
    },
    {
      "cell_type": "markdown",
      "metadata": {},
      "source": [
        "**Problem:**"
      ]
    },
    {
      "cell_type": "markdown",
      "metadata": {
        "id": "RLcBzA1y5K4w"
      },
      "source": [
        "## Question 2"
      ]
    },
    {
      "cell_type": "markdown",
      "metadata": {},
      "source": [
        "**Loading Data**"
      ]
    },
    {
      "cell_type": "code",
      "execution_count": 1,
      "metadata": {
        "colab": {
          "base_uri": "https://localhost:8080/",
          "height": 313
        },
        "id": "wiH93S2W7xJ2",
        "outputId": "dd15f704-41dc-4f85-81ac-9bd2b5900673"
      },
      "outputs": [
        {
          "data": {
            "text/html": [
              "<div>\n",
              "<style scoped>\n",
              "    .dataframe tbody tr th:only-of-type {\n",
              "        vertical-align: middle;\n",
              "    }\n",
              "\n",
              "    .dataframe tbody tr th {\n",
              "        vertical-align: top;\n",
              "    }\n",
              "\n",
              "    .dataframe thead th {\n",
              "        text-align: right;\n",
              "    }\n",
              "</style>\n",
              "<table border=\"1\" class=\"dataframe\">\n",
              "  <thead>\n",
              "    <tr style=\"text-align: right;\">\n",
              "      <th></th>\n",
              "      <th>FL_DATE</th>\n",
              "      <th>CARRIER_CODE</th>\n",
              "      <th>TAIL_NUM</th>\n",
              "      <th>FL_NUM</th>\n",
              "      <th>ORIGIN</th>\n",
              "      <th>ORIGIN_ST</th>\n",
              "      <th>DEST</th>\n",
              "      <th>DEST_ST</th>\n",
              "      <th>DEP_TIME</th>\n",
              "      <th>DEP_DELAY</th>\n",
              "      <th>ARR_TIME</th>\n",
              "      <th>ARR_DELAY</th>\n",
              "      <th>ELAPSED_TIME</th>\n",
              "      <th>DISTANCE</th>\n",
              "    </tr>\n",
              "  </thead>\n",
              "  <tbody>\n",
              "    <tr>\n",
              "      <th>0</th>\n",
              "      <td>2019-10-01</td>\n",
              "      <td>AA</td>\n",
              "      <td>N916NN</td>\n",
              "      <td>2311</td>\n",
              "      <td>TUS</td>\n",
              "      <td>AZ</td>\n",
              "      <td>ORD</td>\n",
              "      <td>IL</td>\n",
              "      <td>828.0</td>\n",
              "      <td>0.0</td>\n",
              "      <td>1353.0</td>\n",
              "      <td>0.0</td>\n",
              "      <td>205.0</td>\n",
              "      <td>1437</td>\n",
              "    </tr>\n",
              "    <tr>\n",
              "      <th>1</th>\n",
              "      <td>2019-10-01</td>\n",
              "      <td>AA</td>\n",
              "      <td>N733UW</td>\n",
              "      <td>2315</td>\n",
              "      <td>PHX</td>\n",
              "      <td>AZ</td>\n",
              "      <td>DEN</td>\n",
              "      <td>CO</td>\n",
              "      <td>1907.0</td>\n",
              "      <td>0.0</td>\n",
              "      <td>2159.0</td>\n",
              "      <td>0.0</td>\n",
              "      <td>112.0</td>\n",
              "      <td>602</td>\n",
              "    </tr>\n",
              "    <tr>\n",
              "      <th>2</th>\n",
              "      <td>2019-10-01</td>\n",
              "      <td>AA</td>\n",
              "      <td>N140AN</td>\n",
              "      <td>2318</td>\n",
              "      <td>DFW</td>\n",
              "      <td>TX</td>\n",
              "      <td>LAX</td>\n",
              "      <td>CA</td>\n",
              "      <td>1904.0</td>\n",
              "      <td>104.0</td>\n",
              "      <td>2016.0</td>\n",
              "      <td>101.0</td>\n",
              "      <td>192.0</td>\n",
              "      <td>1235</td>\n",
              "    </tr>\n",
              "    <tr>\n",
              "      <th>3</th>\n",
              "      <td>2019-10-01</td>\n",
              "      <td>AA</td>\n",
              "      <td>N925AN</td>\n",
              "      <td>2325</td>\n",
              "      <td>SNA</td>\n",
              "      <td>CA</td>\n",
              "      <td>DFW</td>\n",
              "      <td>TX</td>\n",
              "      <td>1729.0</td>\n",
              "      <td>4.0</td>\n",
              "      <td>2215.0</td>\n",
              "      <td>3.0</td>\n",
              "      <td>166.0</td>\n",
              "      <td>1205</td>\n",
              "    </tr>\n",
              "    <tr>\n",
              "      <th>4</th>\n",
              "      <td>2019-10-01</td>\n",
              "      <td>AA</td>\n",
              "      <td>N143AN</td>\n",
              "      <td>2328</td>\n",
              "      <td>ATL</td>\n",
              "      <td>GA</td>\n",
              "      <td>LAX</td>\n",
              "      <td>CA</td>\n",
              "      <td>656.0</td>\n",
              "      <td>0.0</td>\n",
              "      <td>841.0</td>\n",
              "      <td>0.0</td>\n",
              "      <td>285.0</td>\n",
              "      <td>1947</td>\n",
              "    </tr>\n",
              "  </tbody>\n",
              "</table>\n",
              "</div>"
            ],
            "text/plain": [
              "      FL_DATE CARRIER_CODE TAIL_NUM  FL_NUM ORIGIN ORIGIN_ST DEST DEST_ST  \\\n",
              "0  2019-10-01           AA   N916NN    2311    TUS        AZ  ORD      IL   \n",
              "1  2019-10-01           AA   N733UW    2315    PHX        AZ  DEN      CO   \n",
              "2  2019-10-01           AA   N140AN    2318    DFW        TX  LAX      CA   \n",
              "3  2019-10-01           AA   N925AN    2325    SNA        CA  DFW      TX   \n",
              "4  2019-10-01           AA   N143AN    2328    ATL        GA  LAX      CA   \n",
              "\n",
              "   DEP_TIME  DEP_DELAY  ARR_TIME  ARR_DELAY  ELAPSED_TIME  DISTANCE  \n",
              "0     828.0        0.0    1353.0        0.0         205.0      1437  \n",
              "1    1907.0        0.0    2159.0        0.0         112.0       602  \n",
              "2    1904.0      104.0    2016.0      101.0         192.0      1235  \n",
              "3    1729.0        4.0    2215.0        3.0         166.0      1205  \n",
              "4     656.0        0.0     841.0        0.0         285.0      1947  "
            ]
          },
          "execution_count": 1,
          "metadata": {},
          "output_type": "execute_result"
        }
      ],
      "source": [
        "import pandas as pd\n",
        "\n",
        "# Load the CSV with the correct filename\n",
        "df = pd.read_csv(\"2019_ONTIME_REPORTING_FSW-1.csv\")\n",
        "\n",
        "# View the first 5 rows\n",
        "df.head()"
      ]
    },
    {
      "cell_type": "markdown",
      "metadata": {},
      "source": [
        "**Inspecting Data and Converting to Suitable Types**"
      ]
    },
    {
      "cell_type": "code",
      "execution_count": 2,
      "metadata": {
        "colab": {
          "base_uri": "https://localhost:8080/"
        },
        "id": "Yeo8eBJ52dEU",
        "outputId": "ef20c861-9082-4292-fd54-4c90a0f34afd"
      },
      "outputs": [
        {
          "name": "stdout",
          "output_type": "stream",
          "text": [
            "There are 1897503 rows and 14 columns.\n",
            "<class 'pandas.core.frame.DataFrame'>\n",
            "RangeIndex: 1897503 entries, 0 to 1897502\n",
            "Data columns (total 14 columns):\n",
            " #   Column        Dtype  \n",
            "---  ------        -----  \n",
            " 0   FL_DATE       object \n",
            " 1   CARRIER_CODE  object \n",
            " 2   TAIL_NUM      object \n",
            " 3   FL_NUM        int64  \n",
            " 4   ORIGIN        object \n",
            " 5   ORIGIN_ST     object \n",
            " 6   DEST          object \n",
            " 7   DEST_ST       object \n",
            " 8   DEP_TIME      float64\n",
            " 9   DEP_DELAY     float64\n",
            " 10  ARR_TIME      float64\n",
            " 11  ARR_DELAY     float64\n",
            " 12  ELAPSED_TIME  float64\n",
            " 13  DISTANCE      int64  \n",
            "dtypes: float64(5), int64(2), object(7)\n",
            "memory usage: 202.7+ MB\n"
          ]
        }
      ],
      "source": [
        "# inspect the dimensions\n",
        "print(f\"There are {df.shape[0]} rows and {df.shape[1]} columns.\")\n",
        "\n",
        "# inspect data types\n",
        "df.info()"
      ]
    },
    {
      "cell_type": "markdown",
      "metadata": {},
      "source": [
        "**Dimensions** <br></br>There are 1897503 rows and 14 columns of data.  "
      ]
    },
    {
      "cell_type": "markdown",
      "metadata": {},
      "source": [
        "**Changes in Data Types**\n",
        "<br></br>\n",
        "CARRIER_CODE, TAIL_NUM, FL_NUM, ORIGIN, ORIGIN_ST, DEST, and DEST_ST will be changed to category variables because they represent labels.  FL_DATE will be changed to datetime because it represents a date.  DEP_TIME, DEP_DELAY, ARR_TIME, ARR_DELAY, and ELAPSED_TIME will be changed to integers as well."
      ]
    },
    {
      "cell_type": "code",
      "execution_count": 3,
      "metadata": {
        "id": "HEgSnZ8H8R_b"
      },
      "outputs": [
        {
          "data": {
            "text/plain": [
              "FL_DATE         datetime64[ns]\n",
              "CARRIER_CODE          category\n",
              "TAIL_NUM              category\n",
              "FL_NUM                category\n",
              "ORIGIN                category\n",
              "ORIGIN_ST             category\n",
              "DEST                  category\n",
              "DEST_ST               category\n",
              "DEP_TIME                 Int64\n",
              "DEP_DELAY                Int64\n",
              "ARR_TIME                 Int64\n",
              "ARR_DELAY                Int64\n",
              "ELAPSED_TIME             Int64\n",
              "DISTANCE                 int64\n",
              "dtype: object"
            ]
          },
          "execution_count": 3,
          "metadata": {},
          "output_type": "execute_result"
        }
      ],
      "source": [
        "# change FL_DATE to datetime\n",
        "df[\"FL_DATE\"] = pd.to_datetime(df[\"FL_DATE\"])\n",
        "\n",
        "# change CARRIER_CODE, TAIL_NUM, FL_NUM, ORIGIN, ORIGIN_ST, DEST, DEST_ST to\n",
        "# categorical variables\n",
        "df[\"FL_NUM\"] = df[\"FL_NUM\"].astype(\"category\")\n",
        "df[\"CARRIER_CODE\"] = df[\"CARRIER_CODE\"].astype(\"category\")\n",
        "df[\"TAIL_NUM\"] = df[\"TAIL_NUM\"].astype(\"category\")\n",
        "df[\"ORIGIN\"] = df[\"ORIGIN\"].astype(\"category\")\n",
        "df[\"ORIGIN_ST\"] = df[\"ORIGIN_ST\"].astype(\"category\")\n",
        "df[\"DEST\"] = df[\"DEST\"].astype(\"category\")\n",
        "df[\"DEST_ST\"] = df[\"DEST_ST\"].astype(\"category\")\n",
        "\n",
        "# change DEP_TIME, DEP_DELAY, ARR_TIME, ARR_DELAY, ELAPSED_TIME to Int64\n",
        "df[\"DEP_TIME\"] = df[\"DEP_TIME\"].astype(\"Int64\")\n",
        "df[\"DEP_DELAY\"] = df[\"DEP_DELAY\"].astype(\"Int64\")\n",
        "df[\"ARR_TIME\"] = df[\"ARR_TIME\"].astype(\"Int64\")\n",
        "df[\"ARR_DELAY\"] = df[\"ARR_DELAY\"].astype(\"Int64\")\n",
        "df[\"ELAPSED_TIME\"] = df[\"ELAPSED_TIME\"].astype(\"Int64\")\n",
        "\n",
        "# verify changes \n",
        "df.dtypes"
      ]
    },
    {
      "cell_type": "code",
      "execution_count": 17,
      "metadata": {},
      "outputs": [
        {
          "data": {
            "text/html": [
              "<div>\n",
              "<style scoped>\n",
              "    .dataframe tbody tr th:only-of-type {\n",
              "        vertical-align: middle;\n",
              "    }\n",
              "\n",
              "    .dataframe tbody tr th {\n",
              "        vertical-align: top;\n",
              "    }\n",
              "\n",
              "    .dataframe thead th {\n",
              "        text-align: right;\n",
              "    }\n",
              "</style>\n",
              "<table border=\"1\" class=\"dataframe\">\n",
              "  <thead>\n",
              "    <tr style=\"text-align: right;\">\n",
              "      <th></th>\n",
              "      <th>FL_DATE</th>\n",
              "      <th>CARRIER_CODE</th>\n",
              "      <th>TAIL_NUM</th>\n",
              "      <th>FL_NUM</th>\n",
              "      <th>ORIGIN</th>\n",
              "      <th>ORIGIN_ST</th>\n",
              "      <th>DEST</th>\n",
              "      <th>DEST_ST</th>\n",
              "      <th>DEP_TIME</th>\n",
              "      <th>DEP_DELAY</th>\n",
              "      <th>ARR_TIME</th>\n",
              "      <th>ARR_DELAY</th>\n",
              "      <th>ELAPSED_TIME</th>\n",
              "      <th>DISTANCE</th>\n",
              "    </tr>\n",
              "  </thead>\n",
              "  <tbody>\n",
              "    <tr>\n",
              "      <th>0</th>\n",
              "      <td>2019-10-01</td>\n",
              "      <td>AA</td>\n",
              "      <td>N916NN</td>\n",
              "      <td>2311</td>\n",
              "      <td>TUS</td>\n",
              "      <td>AZ</td>\n",
              "      <td>ORD</td>\n",
              "      <td>IL</td>\n",
              "      <td>828</td>\n",
              "      <td>0</td>\n",
              "      <td>1353</td>\n",
              "      <td>0</td>\n",
              "      <td>205</td>\n",
              "      <td>1437</td>\n",
              "    </tr>\n",
              "    <tr>\n",
              "      <th>1</th>\n",
              "      <td>2019-10-01</td>\n",
              "      <td>AA</td>\n",
              "      <td>N733UW</td>\n",
              "      <td>2315</td>\n",
              "      <td>PHX</td>\n",
              "      <td>AZ</td>\n",
              "      <td>DEN</td>\n",
              "      <td>CO</td>\n",
              "      <td>1907</td>\n",
              "      <td>0</td>\n",
              "      <td>2159</td>\n",
              "      <td>0</td>\n",
              "      <td>112</td>\n",
              "      <td>602</td>\n",
              "    </tr>\n",
              "    <tr>\n",
              "      <th>2</th>\n",
              "      <td>2019-10-01</td>\n",
              "      <td>AA</td>\n",
              "      <td>N140AN</td>\n",
              "      <td>2318</td>\n",
              "      <td>DFW</td>\n",
              "      <td>TX</td>\n",
              "      <td>LAX</td>\n",
              "      <td>CA</td>\n",
              "      <td>1904</td>\n",
              "      <td>104</td>\n",
              "      <td>2016</td>\n",
              "      <td>101</td>\n",
              "      <td>192</td>\n",
              "      <td>1235</td>\n",
              "    </tr>\n",
              "    <tr>\n",
              "      <th>3</th>\n",
              "      <td>2019-10-01</td>\n",
              "      <td>AA</td>\n",
              "      <td>N925AN</td>\n",
              "      <td>2325</td>\n",
              "      <td>SNA</td>\n",
              "      <td>CA</td>\n",
              "      <td>DFW</td>\n",
              "      <td>TX</td>\n",
              "      <td>1729</td>\n",
              "      <td>4</td>\n",
              "      <td>2215</td>\n",
              "      <td>3</td>\n",
              "      <td>166</td>\n",
              "      <td>1205</td>\n",
              "    </tr>\n",
              "    <tr>\n",
              "      <th>4</th>\n",
              "      <td>2019-10-01</td>\n",
              "      <td>AA</td>\n",
              "      <td>N143AN</td>\n",
              "      <td>2328</td>\n",
              "      <td>ATL</td>\n",
              "      <td>GA</td>\n",
              "      <td>LAX</td>\n",
              "      <td>CA</td>\n",
              "      <td>656</td>\n",
              "      <td>0</td>\n",
              "      <td>841</td>\n",
              "      <td>0</td>\n",
              "      <td>285</td>\n",
              "      <td>1947</td>\n",
              "    </tr>\n",
              "  </tbody>\n",
              "</table>\n",
              "</div>"
            ],
            "text/plain": [
              "     FL_DATE CARRIER_CODE TAIL_NUM FL_NUM ORIGIN ORIGIN_ST DEST DEST_ST  \\\n",
              "0 2019-10-01           AA   N916NN   2311    TUS        AZ  ORD      IL   \n",
              "1 2019-10-01           AA   N733UW   2315    PHX        AZ  DEN      CO   \n",
              "2 2019-10-01           AA   N140AN   2318    DFW        TX  LAX      CA   \n",
              "3 2019-10-01           AA   N925AN   2325    SNA        CA  DFW      TX   \n",
              "4 2019-10-01           AA   N143AN   2328    ATL        GA  LAX      CA   \n",
              "\n",
              "   DEP_TIME  DEP_DELAY  ARR_TIME  ARR_DELAY  ELAPSED_TIME  DISTANCE  \n",
              "0       828          0      1353          0           205      1437  \n",
              "1      1907          0      2159          0           112       602  \n",
              "2      1904        104      2016        101           192      1235  \n",
              "3      1729          4      2215          3           166      1205  \n",
              "4       656          0       841          0           285      1947  "
            ]
          },
          "execution_count": 17,
          "metadata": {},
          "output_type": "execute_result"
        }
      ],
      "source": [
        "# verify changes by checking first 5 rows\n",
        "df.head()"
      ]
    },
    {
      "cell_type": "code",
      "execution_count": 4,
      "metadata": {},
      "outputs": [
        {
          "data": {
            "text/plain": [
              "FL_DATE         0.000000\n",
              "CARRIER_CODE    0.000000\n",
              "TAIL_NUM        0.252490\n",
              "FL_NUM          0.000000\n",
              "ORIGIN          0.000000\n",
              "ORIGIN_ST       0.000000\n",
              "DEST            0.000000\n",
              "DEST_ST         0.000000\n",
              "DEP_TIME        1.407481\n",
              "DEP_DELAY       1.407903\n",
              "ARR_TIME        1.488482\n",
              "ARR_DELAY       1.680314\n",
              "ELAPSED_TIME    1.680314\n",
              "DISTANCE        0.000000\n",
              "dtype: float64"
            ]
          },
          "execution_count": 4,
          "metadata": {},
          "output_type": "execute_result"
        }
      ],
      "source": [
        "# percentage of missing values\n",
        "df.isnull().mean()*100"
      ]
    },
    {
      "cell_type": "code",
      "execution_count": null,
      "metadata": {},
      "outputs": [
        {
          "data": {
            "text/plain": [
              "0    1865619\n",
              "5      21918\n",
              "6       4790\n",
              "2       3640\n",
              "3       1529\n",
              "4          7\n",
              "Name: count, dtype: int64"
            ]
          },
          "execution_count": 11,
          "metadata": {},
          "output_type": "execute_result"
        }
      ],
      "source": [
        "# distribution of missing values in rows\n",
        "df.isnull().sum(axis=1).sort_values(ascending=False).value_counts()"
      ]
    },
    {
      "cell_type": "markdown",
      "metadata": {},
      "source": [
        "**Missing Values**<br></br>Based on this information, missing data is not widespread since only a small percentage of rows have missing data.  Out of the rows with missing data, most have 5 or 6 missing columns.  Since the columns with missing values are related to arrival, departure, and delay times and this is important to the data science question on air traffic in part 1, these rows should be dropped."
      ]
    },
    {
      "cell_type": "code",
      "execution_count": null,
      "metadata": {},
      "outputs": [
        {
          "data": {
            "text/plain": [
              "0    1865619\n",
              "Name: count, dtype: int64"
            ]
          },
          "execution_count": 14,
          "metadata": {},
          "output_type": "execute_result"
        }
      ],
      "source": [
        "# remove rows with null values\n",
        "df = df.dropna()\n",
        "\n",
        "# verify changes (only rows with 0 null values retained)\n",
        "df.isnull().sum(axis=1).sort_values(ascending=False).value_counts()"
      ]
    },
    {
      "cell_type": "markdown",
      "metadata": {},
      "source": [
        "**Invalid Data**"
      ]
    },
    {
      "cell_type": "code",
      "execution_count": 39,
      "metadata": {},
      "outputs": [
        {
          "data": {
            "text/plain": [
              "TAIL_NUM\n",
              "N706SK    1734\n",
              "N726SK    1733\n",
              "N742SK    1651\n",
              "N716SK    1629\n",
              "N719SK    1590\n",
              "          ... \n",
              "N974JB       1\n",
              "N805NW       1\n",
              "N9021H       0\n",
              "ALL          0\n",
              "N246PS       0\n",
              "Name: count, Length: 4888, dtype: int64"
            ]
          },
          "execution_count": 39,
          "metadata": {},
          "output_type": "execute_result"
        }
      ],
      "source": [
        "df[\"TAIL_NUM\"].value_counts()"
      ]
    },
    {
      "cell_type": "code",
      "execution_count": null,
      "metadata": {},
      "outputs": [],
      "source": [
        "# remove \"ALL\" entry and tail numbers with 0 occurences?\n",
        "df[\"TAIL_NUM\"] = df[\"TAIL_NUM\"]"
      ]
    },
    {
      "cell_type": "code",
      "execution_count": null,
      "metadata": {},
      "outputs": [
        {
          "data": {
            "text/plain": [
              "DISTANCE\n",
              "471         1\n",
              "2390        1\n",
              "1760        2\n",
              "2233        2\n",
              "1823        2\n",
              "        ...  \n",
              "679     18337\n",
              "954     18663\n",
              "236     23229\n",
              "2475    25449\n",
              "337     37790\n",
              "Name: count, Length: 661, dtype: int64"
            ]
          },
          "execution_count": 40,
          "metadata": {},
          "output_type": "execute_result"
        }
      ],
      "source": []
    },
    {
      "cell_type": "markdown",
      "metadata": {
        "id": "npvyQ3Pa52MT"
      },
      "source": [
        "## Question 3"
      ]
    },
    {
      "cell_type": "markdown",
      "metadata": {
        "id": "uQ7Zqu-V6Mp9"
      },
      "source": [
        "## Question 4"
      ]
    },
    {
      "cell_type": "markdown",
      "metadata": {
        "id": "U8-oFhy_6UAi"
      },
      "source": [
        "## Question 5"
      ]
    },
    {
      "cell_type": "markdown",
      "metadata": {
        "id": "5tMBIfpo6VP5"
      },
      "source": [
        "## Question 6"
      ]
    },
    {
      "cell_type": "markdown",
      "metadata": {
        "id": "VIf98t557G3d"
      },
      "source": [
        "## Question 7"
      ]
    }
  ],
  "metadata": {
    "colab": {
      "provenance": []
    },
    "kernelspec": {
      "display_name": "Python 3",
      "name": "python3"
    },
    "language_info": {
      "codemirror_mode": {
        "name": "ipython",
        "version": 3
      },
      "file_extension": ".py",
      "mimetype": "text/x-python",
      "name": "python",
      "nbconvert_exporter": "python",
      "pygments_lexer": "ipython3",
      "version": "3.12.1"
    }
  },
  "nbformat": 4,
  "nbformat_minor": 0
}
