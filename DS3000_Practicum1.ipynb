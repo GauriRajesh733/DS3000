{
 "cells": [
  {
   "cell_type": "markdown",
   "metadata": {},
   "source": [
    "# DS Practicum 1"
   ]
  },
  {
   "cell_type": "markdown",
   "metadata": {},
   "source": [
    "## Question 1"
   ]
  },
  {
   "cell_type": "markdown",
   "metadata": {},
   "source": [
    "**Problem:**\n",
    "The data science problem we were given concerns airline performance from 1987 to present, as provided by the Bureau of Transportation Statistics. The dataset contains airlines and their correlated figures, including arrival and departure data, flight distances, delays, among others. We specifically focused on the subset of this data containing statistics from flights which departed from CA, AZ, and NV in 2019. Given this data, we were tasked with analyzing the air traffic at certain airports/regions and analyzing the air traffic at certain airports/regions, by processing and visualizing data to find key takeaways regarding patterns, performance, and summary statistics."
   ]
  },
  {
   "cell_type": "markdown",
   "metadata": {
    "id": "RLcBzA1y5K4w"
   },
   "source": [
    "## Question 2"
   ]
  },
  {
   "cell_type": "markdown",
   "metadata": {},
   "source": [
    "**Loading Data**"
   ]
  },
  {
   "cell_type": "code",
   "execution_count": null,
   "metadata": {
    "colab": {
     "base_uri": "https://localhost:8080/",
     "height": 313
    },
    "id": "wiH93S2W7xJ2",
    "outputId": "dd15f704-41dc-4f85-81ac-9bd2b5900673"
   },
   "outputs": [],
   "source": [
    "import pandas as pd\n",
    "import matplotlib.pyplot as plt\n",
    "\n",
    "# Load the CSV with the correct filename\n",
    "df = pd.read_csv(\"2019_ONTIME_REPORTING_FSW-1.csv\")\n",
    "\n",
    "# View the first 5 rows\n",
    "df.head()"
   ]
  },
  {
   "cell_type": "markdown",
   "metadata": {},
   "source": [
    "**Inspecting Data and Converting to Suitable Types**"
   ]
  },
  {
   "cell_type": "code",
   "execution_count": null,
   "metadata": {
    "colab": {
     "base_uri": "https://localhost:8080/"
    },
    "id": "Yeo8eBJ52dEU",
    "outputId": "ef20c861-9082-4292-fd54-4c90a0f34afd"
   },
   "outputs": [],
   "source": [
    "# inspect the dimensions\n",
    "print(f\"There are {df.shape[0]} rows and {df.shape[1]} columns.\")\n",
    "\n",
    "# inspect data types\n",
    "df.info()"
   ]
  },
  {
   "cell_type": "markdown",
   "metadata": {},
   "source": [
    "**Dimensions** <br></br>There are 1897503 rows and 14 columns of data.  "
   ]
  },
  {
   "cell_type": "markdown",
   "metadata": {},
   "source": [
    "**Changes in Data Types**\n",
    "<br></br>\n",
    "CARRIER_CODE, TAIL_NUM, FL_NUM, ORIGIN, ORIGIN_ST, DEST, and DEST_ST will be changed to category variables because they represent labels.  FL_DATE will be changed to datetime because it represents a date.  DEP_TIME, DEP_DELAY, ARR_TIME, ARR_DELAY, and ELAPSED_TIME will be changed to integers as well."
   ]
  },
  {
   "cell_type": "code",
   "execution_count": null,
   "metadata": {
    "id": "HEgSnZ8H8R_b"
   },
   "outputs": [],
   "source": [
    "# change FL_DATE to datetime\n",
    "df[\"FL_DATE\"] = pd.to_datetime(df[\"FL_DATE\"], format=\"%m/%d/%y\")\n",
    "\n",
    "# change CARRIER_CODE, TAIL_NUM, FL_NUM, ORIGIN, ORIGIN_ST, DEST, DEST_ST to\n",
    "# categorical variables\n",
    "df[\"FL_NUM\"] = df[\"FL_NUM\"].astype(\"category\")\n",
    "df[\"CARRIER_CODE\"] = df[\"CARRIER_CODE\"].astype(\"category\")\n",
    "df[\"TAIL_NUM\"] = df[\"TAIL_NUM\"].astype(\"category\")\n",
    "df[\"ORIGIN\"] = df[\"ORIGIN\"].astype(\"category\")\n",
    "df[\"ORIGIN_ST\"] = df[\"ORIGIN_ST\"].astype(\"category\")\n",
    "df[\"DEST\"] = df[\"DEST\"].astype(\"category\")\n",
    "df[\"DEST_ST\"] = df[\"DEST_ST\"].astype(\"category\")\n",
    "\n",
    "# change DEP_TIME, DEP_DELAY, ARR_TIME, ARR_DELAY, ELAPSED_TIME to Int64\n",
    "df[\"DEP_TIME\"] = df[\"DEP_TIME\"].astype(\"Int64\")\n",
    "df[\"DEP_DELAY\"] = df[\"DEP_DELAY\"].astype(\"Int64\")\n",
    "df[\"ARR_TIME\"] = df[\"ARR_TIME\"].astype(\"Int64\")\n",
    "df[\"ARR_DELAY\"] = df[\"ARR_DELAY\"].astype(\"Int64\")\n",
    "df[\"ELAPSED_TIME\"] = df[\"ELAPSED_TIME\"].astype(\"Int64\")\n",
    "\n",
    "# verify changes \n",
    "df.dtypes"
   ]
  },
  {
   "cell_type": "code",
   "execution_count": null,
   "metadata": {},
   "outputs": [],
   "source": [
    "# verify changes by checking first 5 rows\n",
    "df.head()\n",
    "original_df = df.copy()"
   ]
  },
  {
   "cell_type": "code",
   "execution_count": null,
   "metadata": {},
   "outputs": [],
   "source": [
    "# percentage of missing values\n",
    "df.isnull().mean()*100"
   ]
  },
  {
   "cell_type": "code",
   "execution_count": null,
   "metadata": {},
   "outputs": [],
   "source": [
    "# distribution of missing values in rows\n",
    "df.isnull().sum(axis=1).sort_values(ascending=False).value_counts()"
   ]
  },
  {
   "cell_type": "markdown",
   "metadata": {},
   "source": [
    "**Missing Values**<br></br>Based on this information, missing data is not widespread since only a small percentage of rows have missing data.  Out of the rows with missing data, most have 5 or 6 missing columns.  Since the columns with missing values are related to arrival, departure, and delay times and this is important to the data science question on air traffic in part 1, these rows should be dropped."
   ]
  },
  {
   "cell_type": "code",
   "execution_count": null,
   "metadata": {},
   "outputs": [],
   "source": [
    "# remove rows with null values\n",
    "df = df.dropna()\n",
    "\n",
    "# verify changes (only rows with 0 null values retained)\n",
    "df.isnull().sum(axis=1).sort_values(ascending=False).value_counts()"
   ]
  },
  {
   "cell_type": "markdown",
   "metadata": {},
   "source": [
    "**Invalid Data**"
   ]
  },
  {
   "cell_type": "markdown",
   "metadata": {},
   "source": [
    "Invalid times of 2400 for DEP_TIME were corrected by changing them to 0 and updating the FL_DATE by 1 day.  Rows with times of 2400 were not excluded since the data is not necessarily incorrect, just inconsistent since 2400 means 24 hours later or the next day.  This means the flight actually departed at midnight the next day."
   ]
  },
  {
   "cell_type": "code",
   "execution_count": null,
   "metadata": {},
   "outputs": [],
   "source": [
    "# determine number of rows with invalid DEP_TIME\n",
    "invalid_dep_time_df = df[df[\"DEP_TIME\"] == 2400]\n",
    "print(f\"{invalid_dep_time_df.shape[0]} rows with invalid DEP_TIME values\")\n",
    "# display rows with invalid departure times to verify later\n",
    "invalid_dep_time_df.head()"
   ]
  },
  {
   "cell_type": "markdown",
   "metadata": {},
   "source": [
    "There are 241 rows with invalid departure times."
   ]
  },
  {
   "cell_type": "code",
   "execution_count": null,
   "metadata": {},
   "outputs": [],
   "source": [
    "# update rows with invalid DEP_TIME\n",
    "dep_time_filter = df[\"DEP_TIME\"] == 2400\n",
    "df.loc[dep_time_filter, [\"DEP_TIME\", \"FL_DATE\"]] = (\n",
    "    df.loc[dep_time_filter].assign(DEP_TIME=0, FL_DATE=lambda x: x[\"FL_DATE\"] + pd.DateOffset(days=1))\n",
    ")\n",
    "\n",
    "# verify changes by checking that there are no rows with 2400 as DEP_TIME\n",
    "new_dep_time_df = df[df[\"DEP_TIME\"] == 2400]\n",
    "print(f\"{new_dep_time_df.shape[0]} rows with invalid DEP_TIME values\")\n",
    "\n",
    "# verify changes by checking that rows in dep_time_filter now have corrected dates\n",
    "verify_dep_time_cleaning = invalid_dep_time_df.merge(df, on=[\"FL_NUM\", \"TAIL_NUM\", \"ARR_TIME\", \"DEP_DELAY\"], how=\"inner\", suffixes=(\"_before\", \"_cleaned\"))\n",
    "verify_dep_time_cleaning = verify_dep_time_cleaning[[\"FL_DATE_before\", \"DEP_TIME_before\", \"FL_DATE_cleaned\", \"DEP_TIME_cleaned\"]]\n",
    "verify_date_change = (verify_dep_time_cleaning[\"FL_DATE_cleaned\"] - verify_dep_time_cleaning[\"FL_DATE_before\"]).dt.days\n",
    "verify_dep_change = verify_dep_time_cleaning[\"DEP_TIME_cleaned\"] == 0\n",
    "print(\"All dates with 2400 departure time corrected by 1 day: \", (verify_date_change == 1).all())\n",
    "print(\"All dates with 2400 departure time corrected to 0: \", (verify_dep_change).all())"
   ]
  },
  {
   "cell_type": "markdown",
   "metadata": {},
   "source": [
    "There are now 0 rows with invalid departure times."
   ]
  },
  {
   "cell_type": "markdown",
   "metadata": {},
   "source": [
    "The other columns were checked for potential invalid data but no such values were found.  Checked for invalid CARRIER_CODE (not exactly two characters), FL_NUM(not exactly 1 to 4 digits), ORIGIN/DEST (not exactly 3 uppercase letters), ORIGIN_ST/DEST_ST (not exactly 2 uppercase letters), and DISTANCE (negative distances).  "
   ]
  },
  {
   "cell_type": "markdown",
   "metadata": {},
   "source": [
    "**Additional Variable Checks**"
   ]
  },
  {
   "cell_type": "code",
   "execution_count": null,
   "metadata": {},
   "outputs": [],
   "source": [
    "# check for invalid CARRIER_CODE (not two characters)\n",
    "carrier_code_check = df[\"CARRIER_CODE\"].str.len() != 2\n",
    "carrier_code_check_df = df[carrier_code_check]\n",
    "print(f\"There are {carrier_code_check_df.shape[0]} CARRIER_CODE entries that are not 2 characters\")"
   ]
  },
  {
   "cell_type": "markdown",
   "metadata": {},
   "source": [
    "There are no CARRIER_CODE entries with IDs that are not 2 characters."
   ]
  },
  {
   "cell_type": "code",
   "execution_count": null,
   "metadata": {},
   "outputs": [],
   "source": [
    "# check for invalid FL_NUM (not 1 to 4 digits)\n",
    "fl_num_check = (df[\"FL_NUM\"].astype(\"string\").str.len() > 4) |  (df[\"FL_NUM\"].astype(\"string\").str.len() == 0)\n",
    "fl_num_check_df = df[fl_num_check]\n",
    "print(f\"There are {fl_num_check_df.shape[0]} FL_NUM entries that are not 1 to 4 digits\")"
   ]
  },
  {
   "cell_type": "markdown",
   "metadata": {},
   "source": [
    "There are no FL_NUM entries with values that are not 1 to 4 characters."
   ]
  },
  {
   "cell_type": "code",
   "execution_count": null,
   "metadata": {},
   "outputs": [],
   "source": [
    "# check for invalid ORIGIN/DEST that does not have 3 characters\n",
    "origin_check = df[\"ORIGIN\"].astype(\"string\").str.len() != 3\n",
    "origin_check_df = df[origin_check]\n",
    "print(f\"There are {origin_check_df.shape[0]} ORIGIN entries that are not 3 characters.\")\n",
    "dest_check = df[\"DEST\"].astype(\"string\").str.len() != 3\n",
    "dest_check_df = df[dest_check]\n",
    "print(f\"There are {dest_check_df.shape[0]} DEST entries that are not 3 characters.\")"
   ]
  },
  {
   "cell_type": "markdown",
   "metadata": {},
   "source": [
    "There are no ORIGIN or DEST entries with values that are not 3 characters long."
   ]
  },
  {
   "cell_type": "code",
   "execution_count": null,
   "metadata": {},
   "outputs": [],
   "source": [
    "# check for invalid ORIGIN_ST/DEST_ST that does not have 2 characters\n",
    "originst_check = df[\"ORIGIN_ST\"].astype(\"string\").str.len() != 2\n",
    "originst_check_df = df[originst_check]\n",
    "print(f\"There are {originst_check_df.shape[0]} ORIGIN_ST entries that are not 2 characters.\")\n",
    "destst_check = df[\"DEST_ST\"].astype(\"string\").str.len() != 2\n",
    "destst_check_df = df[destst_check]\n",
    "print(f\"There are {destst_check_df.shape[0]} DEST_ST entries that are not 2 characters.\")"
   ]
  },
  {
   "cell_type": "markdown",
   "metadata": {},
   "source": [
    "There are no ORIGIN_ST or DEST_ST entries with values that are not 3 characters long."
   ]
  },
  {
   "cell_type": "code",
   "execution_count": null,
   "metadata": {},
   "outputs": [],
   "source": [
    "# check for invalid DISTANCE that is negative\n",
    "dist_check = df[\"DISTANCE\"] < 0\n",
    "dist_check_df = df[dist_check]\n",
    "print(f\"There are {dist_check_df.shape[0]} DISTANCE entries with negative values\")"
   ]
  },
  {
   "cell_type": "markdown",
   "metadata": {},
   "source": [
    "There are no DISTANCE entries that have negative values"
   ]
  },
  {
   "cell_type": "markdown",
   "metadata": {},
   "source": [
    "**High Level Overview of Dataset: Airline Carriers and Delays**"
   ]
  },
  {
   "cell_type": "code",
   "execution_count": null,
   "metadata": {},
   "outputs": [],
   "source": [
    "print(f\"There are {df['CARRIER_CODE'].unique().size} different airline carriers\")"
   ]
  },
  {
   "cell_type": "code",
   "execution_count": null,
   "metadata": {},
   "outputs": [],
   "source": [
    "# create new data frame with just departure delays and origin airports\n",
    "origin_airport_delay_avg_df = df.groupby(\"ORIGIN_ST\", observed=True)[[\"DEP_DELAY\"]].mean()\n",
    "# create new data frame with just arrival delays and destination airports\n",
    "dest_airport_delay_avg_df = df.groupby(\"DEST_ST\", observed=True)[[\"ARR_DELAY\"]].mean()"
   ]
  },
  {
   "cell_type": "code",
   "execution_count": null,
   "metadata": {},
   "outputs": [],
   "source": [
    "# create new data frame with just carrier codes and delays\n",
    "carrier_delay_df_avg = df.groupby(\"CARRIER_CODE\", observed=True)[[\"ARR_DELAY\", \"DEP_DELAY\"]].mean()\n",
    "carrier_delay_df_std = df.groupby(\"CARRIER_CODE\", observed=True)[[\"ARR_DELAY\", \"DEP_DELAY\"]].std()\n",
    "carrier_delay_df_avg.head()\n"
   ]
  },
  {
   "cell_type": "code",
   "execution_count": null,
   "metadata": {},
   "outputs": [],
   "source": [
    "# visualize results\n",
    "carrier_delay_df_avg.plot(y=[\"ARR_DELAY\", \"DEP_DELAY\"], kind=\"bar\")\n",
    "plt.title(\"Average Arrival and Departure Delay By Carrier\")\n",
    "plt.ylabel(\"Time (minutes)\")\n",
    "plt.xlabel(\"Carrier\")\n",
    "plt.xticks(rotation=45)\n",
    "plt.show()"
   ]
  },
  {
   "cell_type": "code",
   "execution_count": null,
   "metadata": {},
   "outputs": [],
   "source": [
    "carrier_delay_df_std.plot(y=[\"ARR_DELAY\", \"DEP_DELAY\"], kind=\"bar\")\n",
    "plt.title(\"Standard Deviation Arrival and Departure Delay By Carrier\")\n",
    "plt.ylabel(\"Time (minutes)\")\n",
    "plt.xlabel(\"Carrier\")\n",
    "plt.xticks(rotation=45)\n",
    "plt.show()"
   ]
  },
  {
   "cell_type": "markdown",
   "metadata": {},
   "source": [
    "**Arrival and Departure Delay Analysis**\n",
    "<br></br>\n",
    "Based on the average delay data, carriers F9, YX, and B6 are the most prone to arrival along with departure delays.  The carriers with the least delays are DL, WN, and MO.  Examining the standard devation of delays across carriers shows that the carrier with the greatest variation in arrival and departure delays is YX of almost 70 minutes.  The carrier with the least variability in terms of delays is EV with just under 20 minutes.  Therefore, VW flights tend to have lower delays and have more consistent delay patterns.  In contrast, YX flights tend to have greater delays and less consistent delay patterns.  Generally across airline carriers, the variability of delay patterns are similar for arrival and departure delays.  This may imply that flight carriers have similar patterns of arrival and departure delays.  \n"
   ]
  },
  {
   "cell_type": "code",
   "execution_count": null,
   "metadata": {},
   "outputs": [],
   "source": [
    "# visualize results\n",
    "origin_airport_delay_avg_df.plot(y=[\"DEP_DELAY\"], kind=\"bar\")\n",
    "plt.title(\"Average Departure Delay By Region\")\n",
    "plt.ylabel(\"Time (minutes)\")\n",
    "plt.xlabel(\"Origin Region\")\n",
    "plt.show()"
   ]
  },
  {
   "cell_type": "code",
   "execution_count": null,
   "metadata": {},
   "outputs": [],
   "source": [
    "# visualize results\n",
    "dest_airport_delay_avg_df.plot(y=[\"ARR_DELAY\"], kind=\"bar\")\n",
    "plt.title(\"Average Arrival Delay By Region\")\n",
    "plt.ylabel(\"Time (minutes)\")\n",
    "plt.ylim(0, max(origin_airport_delay_avg_df['DEP_DELAY']))\n",
    "plt.xlabel(\"Destination Region\")\n",
    "plt.show()"
   ]
  },
  {
   "cell_type": "markdown",
   "metadata": {},
   "source": [
    "**Arrival and Departure Delay Analysis Continued**\n",
    "<br></br>\n",
    "Based on the average arrival and departure delays by region, WY demonstrated longer delays compared to other regions.  AK and SC had the shortest departure delays while CT and AK had the shortest arrival delays.  This data can be further analyzed to determine if certain routes or regions may be associated with longer carrier delays.  Significant airport delays may also contribute to increased airport traffic.  However, for the most part, regions have similar arrival and departure delays between 5 and 20 minutes."
   ]
  },
  {
   "cell_type": "markdown",
   "metadata": {},
   "source": [
    "**High Level Overview: Air Traffic at Certain Regions**"
   ]
  },
  {
   "cell_type": "code",
   "execution_count": null,
   "metadata": {},
   "outputs": [],
   "source": [
    "air_traffic_overview_departing_df = df.groupby(\"ORIGIN_ST\", observed=True).size()\n",
    "air_traffic_overview_departing_df.plot(y=[\"ORIGIN_ST\"], kind=\"bar\")\n",
    "plt.title(\"Departing Flights Across Regions in Past Year\")\n",
    "plt.ylabel(\"Number of Flights\")\n",
    "plt.xlabel(\"State\")\n",
    "plt.show()"
   ]
  },
  {
   "cell_type": "code",
   "execution_count": null,
   "metadata": {},
   "outputs": [],
   "source": [
    "air_traffic_overview_arrival_df = df.groupby(\"DEST_ST\", observed=True).size()\n",
    "air_traffic_overview_arrival_df.plot(y=[\"DEST_ST\"], kind=\"bar\")\n",
    "plt.title(\"Arrival Flights Across Regions in Past Year\")\n",
    "plt.ylabel(\"Number of Flights\")\n",
    "plt.xlabel(\"State\")\n",
    "plt.show()"
   ]
  },
  {
   "cell_type": "markdown",
   "metadata": {},
   "source": [
    "**Air Traffic**\n",
    "<br></br>\n",
    "Based on the number of arriving and departing flights across regions in the past year worth of data, CA dominates in terms of total flights, followed by AZ and NV.  Therefore, air traffic is greatest at CA, AZ, and NV based on measures of total flights.  Several regions including AK, AL, and SC have significantly less arriving and departing flights in comparison.  Therefore, these states likely have the least amount of air traffic."
   ]
  },
  {
   "cell_type": "markdown",
   "metadata": {},
   "source": [
    "**Summary Statistics**"
   ]
  },
  {
   "cell_type": "code",
   "execution_count": null,
   "metadata": {},
   "outputs": [],
   "source": [
    "avg_fl_date = df['FL_DATE'].mean()\n",
    "mode_carrier_code = df['CARRIER_CODE'].mode().iloc[0]\n",
    "mode_origin_st = df['ORIGIN_ST'].mode().iloc[0]\n",
    "mode_dest_st = df['DEST_ST'].mode().iloc[0]\n",
    "avg_dep_time = df['DEP_TIME'].mean()\n",
    "avg_dep_delay = df['DEP_DELAY'].mean()\n",
    "avg_arr_time = df['ARR_TIME'].mean()\n",
    "avg_arr_delay = df['ARR_DELAY'].mean()\n",
    "avg_distance = df['DISTANCE'].mean()\n",
    "std_distance = df['DISTANCE'].std()\n",
    "avg_elapsed_time = df['ELAPSED_TIME'].mean()\n",
    "std_elapsed_time = df['ELAPSED_TIME'].std()\n",
    "\n",
    "print(f\"mean flight date: {avg_fl_date}\")\n",
    "print(f\"mode carrier code: {mode_carrier_code}\")\n",
    "print(f\"mode origin: {mode_origin_st}\")\n",
    "print(f\"mode destination: {mode_dest_st}\")\n",
    "print(f\"average departure time: {avg_dep_time}\")\n",
    "print(f\"average departure delay: {avg_dep_delay}\")\n",
    "print(f\"average arrival time: {avg_arr_time}\")\n",
    "print(f\"average arrival delay: {avg_arr_delay}\")\n",
    "print(f\"average distance: {avg_distance}\")\n",
    "print(f\"std distance: {std_distance}\")\n",
    "print(f\"average elapsed time: {avg_elapsed_time}\")\n",
    "print(f\"std elapsed time: {std_elapsed_time}\")"
   ]
  },
  {
   "cell_type": "markdown",
   "metadata": {},
   "source": [
    "**General Statistics**\n",
    "<br></br>\n",
    "Based on the summary statistics, the average flight date was 7/3/2019, indicating that the flight data has a relatively even spread since July is close to the middle of the year.  The most common carrier code was WN, which based on the previous data on delays, seems to have some of the lowest arrival and departure delays compared to other carriers.  Therefore, WN seems to be the least prone to delays.  The mode origin and destination were both CA, indicating that there is likely high air traffic in this region due to the number of incoming as well as outgoing flights.  Both arrival and departure times tend to have a similar average delay, which was also reflected in the previous charts.  The average distance is 1146.86 and this can vary by about 756.42 based on the standard deviation.  This can be reviewed on a region basis since longer average distances might indicate the presense of more international flights at an airport.  Lower average distances might indicate a more regional airport with high or low traffic based on other measures like the number of arriving or departing flights. The average elapsed time is 174.81 and the standard deviation of this time is 92.73.  Similar to the distances, this can be reviewed on a region basis to further determine air traffic at specific locations."
   ]
  },
  {
   "cell_type": "markdown",
   "metadata": {
    "id": "npvyQ3Pa52MT"
   },
   "source": [
    "## Question 3"
   ]
  },
  {
   "cell_type": "markdown",
   "metadata": {},
   "source": [
    "1. Explore patterns in the region i.e. the 3 states (AZ, NV, CA). Determine which region has the most air traffic. Comment on your findings and visualize the results. Note: it's important to explain your rational for determining what is \"the most air traffic\". For example, are you evaluating the frequency of flights or total flight time. Justify your response."
   ]
  },
  {
   "cell_type": "code",
   "execution_count": null,
   "metadata": {},
   "outputs": [],
   "source": [
    "# filter data for AZ, NV, and CA\n",
    "states = ['AZ', 'NV', 'CA']\n",
    "state_filter = df['ORIGIN_ST'].isin(states) | df['DEST_ST'].isin(states)\n",
    "filtered_df = df[state_filter]\n",
    "# verify results by checking how many rows don't have an original location or destination of one of the specified states\n",
    "invalidRows = filtered_df[~df['ORIGIN_ST'].isin(states) & ~df['DEST_ST'].isin(states)].shape[0]\n",
    "print(f\"There are {invalidRows} rows without an original location or destination of AZ, NV, or CA\")"
   ]
  },
  {
   "cell_type": "code",
   "execution_count": null,
   "metadata": {},
   "outputs": [],
   "source": [
    "# determine time span of data\n",
    "filtered_df['FL_DATE'].value_counts(ascending=True)"
   ]
  },
  {
   "cell_type": "markdown",
   "metadata": {},
   "source": [
    "**Criteria For Most Air Traffic**\n",
    "<br></br>\n",
    "The region with the most air traffice will be determined by analyzing the frequency of flights that have arrived at that region and the frequency of flights that have departed from that region between August 9, 2019 and January 1, 2020.  The number of incoming and outgoing flights per day from each region will be analyzed in particular."
   ]
  },
  {
   "cell_type": "code",
   "execution_count": null,
   "metadata": {},
   "outputs": [],
   "source": [
    "# airport data from AZ\n",
    "az_filter = df['ORIGIN_ST'].isin(['AZ']) | df['DEST_ST'].isin(['AZ'])\n",
    "az_airport_df = filtered_df[az_filter]\n",
    "az_airport_df.head()"
   ]
  },
  {
   "cell_type": "code",
   "execution_count": null,
   "metadata": {},
   "outputs": [],
   "source": [
    "# number of flights that arrived at AZ in past year\n",
    "az_airport_df_arrival = az_airport_df[az_airport_df[\"DEST_ST\"] == 'AZ']\n",
    "print(f\"{az_airport_df_arrival.shape[0]} flights arrived at AZ in past year\")"
   ]
  },
  {
   "cell_type": "code",
   "execution_count": null,
   "metadata": {},
   "outputs": [],
   "source": [
    "# count number of flights per day that arrive at AZ\n",
    "az_arrival_flights_per_day = az_airport_df_arrival.groupby(\"FL_DATE\", observed=True).size()"
   ]
  },
  {
   "cell_type": "markdown",
   "metadata": {},
   "source": [
    "**AZ Arrival Flights Per Day Statistics**"
   ]
  },
  {
   "cell_type": "code",
   "execution_count": null,
   "metadata": {},
   "outputs": [],
   "source": [
    "# calculate statistics for flight frequencies\n",
    "az_mean_arrival_flights = az_arrival_flights_per_day.mean()\n",
    "az_median_arrival_flights = az_arrival_flights_per_day.median()\n",
    "az_mode_arrival_flights = az_arrival_flights_per_day.mode().iloc[0]\n",
    "az_std_arrival_flights = az_arrival_flights_per_day.std()\n",
    "print(\"AZ Arrival Flights Per Day Statistics:\")\n",
    "print(f\"mean: {az_mean_arrival_flights}\")\n",
    "print(f\"median: {az_median_arrival_flights}\")\n",
    "print(f\"mode: {az_mode_arrival_flights}\")\n",
    "print(f\"std: {az_std_arrival_flights}\")"
   ]
  },
  {
   "cell_type": "code",
   "execution_count": null,
   "metadata": {},
   "outputs": [],
   "source": [
    "# number of flights that departed from AZ in past year\n",
    "az_airport_df_departure = az_airport_df[az_airport_df[\"ORIGIN_ST\"] == 'AZ']\n",
    "print(f\"{az_airport_df_departure.shape[0]} flights departed from AZ in past year\")"
   ]
  },
  {
   "cell_type": "code",
   "execution_count": null,
   "metadata": {},
   "outputs": [],
   "source": [
    "# count number of flights per day that depart from AZ\n",
    "az_departure_flights_per_day = az_airport_df_departure.groupby(\"FL_DATE\", observed=True).size()"
   ]
  },
  {
   "cell_type": "markdown",
   "metadata": {},
   "source": [
    "**AZ Departure Flights Per Day Statistics**"
   ]
  },
  {
   "cell_type": "code",
   "execution_count": null,
   "metadata": {},
   "outputs": [],
   "source": [
    "# calculate statistics for flight frequencies\n",
    "az_mean_departure_flights = az_departure_flights_per_day.mean()\n",
    "az_median_departure_flights = az_departure_flights_per_day.median()\n",
    "az_mode_departure_flights = az_departure_flights_per_day.mode().iloc[0]\n",
    "az_std_departure_flights = az_departure_flights_per_day.std()\n",
    "print(\"AZ Departure Flights Per Day Statistics:\")\n",
    "print(f\"mean: {az_mean_departure_flights}\")\n",
    "print(f\"median: {az_median_departure_flights}\")\n",
    "print(f\"mode: {az_mode_departure_flights}\")\n",
    "print(f\"std: {az_std_departure_flights}\")"
   ]
  },
  {
   "cell_type": "code",
   "execution_count": null,
   "metadata": {},
   "outputs": [],
   "source": [
    "# airport data from NV\n",
    "nv_filter = df['ORIGIN_ST'].isin(['NV']) | df['DEST_ST'].isin(['NV'])\n",
    "nv_airport_df = filtered_df[nv_filter]\n",
    "nv_airport_df.head()"
   ]
  },
  {
   "cell_type": "code",
   "execution_count": null,
   "metadata": {},
   "outputs": [],
   "source": [
    "# number of flights that arrived at NV in past year\n",
    "nv_airport_df_arrival = nv_airport_df[nv_airport_df[\"DEST_ST\"] == 'NV']\n",
    "print(f\"{nv_airport_df_arrival.shape[0]} flights arrived at NV in past year\")"
   ]
  },
  {
   "cell_type": "code",
   "execution_count": null,
   "metadata": {},
   "outputs": [],
   "source": [
    "# count number of flights per day that arrive at NV\n",
    "nv_arrival_flights_per_day = nv_airport_df_arrival.groupby(\"FL_DATE\", observed=True).size()"
   ]
  },
  {
   "cell_type": "markdown",
   "metadata": {},
   "source": [
    "**NV Arrival Flights Per Day Statistics:**"
   ]
  },
  {
   "cell_type": "code",
   "execution_count": null,
   "metadata": {},
   "outputs": [],
   "source": [
    "# calculate statistics for flight frequencies\n",
    "nv_mean_arrival_flights = nv_arrival_flights_per_day.mean()\n",
    "nv_median_arrival_flights = nv_arrival_flights_per_day.median()\n",
    "nv_mode_arrival_flights = nv_arrival_flights_per_day.mode().iloc[0]\n",
    "nv_std_arrival_flights = nv_arrival_flights_per_day.std()\n",
    "print(\"NV Arrival Flights Per Day Statistics:\")\n",
    "print(f\"mean: {nv_mean_arrival_flights}\")\n",
    "print(f\"median: {nv_median_arrival_flights}\")\n",
    "print(f\"mode: {nv_mode_arrival_flights}\")\n",
    "print(f\"std: {nv_std_arrival_flights}\")"
   ]
  },
  {
   "cell_type": "code",
   "execution_count": null,
   "metadata": {},
   "outputs": [],
   "source": [
    "# number of flights that departed from NV in past year\n",
    "nv_airport_df_departure = nv_airport_df[nv_airport_df[\"ORIGIN_ST\"] == 'NV']\n",
    "print(f\"{nv_airport_df_departure.shape[0]} flights departed from NV in past year\")"
   ]
  },
  {
   "cell_type": "code",
   "execution_count": null,
   "metadata": {},
   "outputs": [],
   "source": [
    "# count number of flights per day that depart from NV\n",
    "nv_departure_flights_per_day = nv_airport_df_departure.groupby(\"FL_DATE\", observed=True).size()"
   ]
  },
  {
   "cell_type": "markdown",
   "metadata": {},
   "source": [
    "**NV Departure Flights Per Day Statistics**"
   ]
  },
  {
   "cell_type": "code",
   "execution_count": null,
   "metadata": {},
   "outputs": [],
   "source": [
    "# calculate statistics for flight frequencies\n",
    "nv_mean_departure_flights = nv_departure_flights_per_day.mean()\n",
    "nv_median_departure_flights = nv_departure_flights_per_day.median()\n",
    "nv_mode_departure_flights = nv_departure_flights_per_day.mode().iloc[0]\n",
    "nv_std_departure_flights = nv_departure_flights_per_day.std()\n",
    "print(\"NV Departure Flights Per Day Statistics:\")\n",
    "print(f\"mean: {nv_mean_departure_flights}\")\n",
    "print(f\"median: {nv_median_departure_flights}\")\n",
    "print(f\"mode: {nv_mode_departure_flights}\")\n",
    "print(f\"std: {nv_std_departure_flights}\")"
   ]
  },
  {
   "cell_type": "code",
   "execution_count": null,
   "metadata": {},
   "outputs": [],
   "source": [
    "# airport data from CA\n",
    "ca_filter = df['ORIGIN_ST'].isin(['CA']) | df['DEST_ST'].isin(['CA'])\n",
    "ca_airport_df = filtered_df[ca_filter]\n",
    "ca_airport_df.head()"
   ]
  },
  {
   "cell_type": "code",
   "execution_count": null,
   "metadata": {},
   "outputs": [],
   "source": [
    "# number of flights that arrived at CA in past year\n",
    "ca_airport_df_arrival = ca_airport_df[ca_airport_df[\"DEST_ST\"] == 'CA']\n",
    "print(f\"{ca_airport_df_arrival.shape[0]} flights arrived at CA in past year\")"
   ]
  },
  {
   "cell_type": "code",
   "execution_count": null,
   "metadata": {},
   "outputs": [],
   "source": [
    "# count number of flights per day that arrive at AZ\n",
    "ca_arrival_flights_per_day = ca_airport_df_arrival.groupby(\"FL_DATE\", observed=True).size()"
   ]
  },
  {
   "cell_type": "markdown",
   "metadata": {},
   "source": [
    "**CA Arrival Flights Per Day Statistics:**"
   ]
  },
  {
   "cell_type": "code",
   "execution_count": null,
   "metadata": {},
   "outputs": [],
   "source": [
    "# calculate statistics for flight frequencies\n",
    "ca_mean_arrival_flights = ca_arrival_flights_per_day.mean()\n",
    "ca_median_arrival_flights = ca_arrival_flights_per_day.median()\n",
    "ca_mode_arrival_flights = ca_arrival_flights_per_day.mode().iloc[0]\n",
    "ca_std_arrival_flights = ca_arrival_flights_per_day.std()\n",
    "print(\"CA Arrival Flights Per Day Statistics:\")\n",
    "print(f\"mean: {ca_mean_arrival_flights}\")\n",
    "print(f\"median: {ca_median_arrival_flights}\")\n",
    "print(f\"mode: {ca_mode_arrival_flights}\")\n",
    "print(f\"std: {ca_std_arrival_flights}\")"
   ]
  },
  {
   "cell_type": "code",
   "execution_count": null,
   "metadata": {},
   "outputs": [],
   "source": [
    "# number of flights that departed from AZ in past year\n",
    "ca_airport_df_departure = ca_airport_df[ca_airport_df[\"ORIGIN_ST\"] == 'CA']\n",
    "print(f\"{ca_airport_df_departure.shape[0]} flights departed from CA in past year\")"
   ]
  },
  {
   "cell_type": "code",
   "execution_count": null,
   "metadata": {},
   "outputs": [],
   "source": [
    "# count number of flights per day that depart from CA\n",
    "ca_departure_flights_per_day = ca_airport_df_departure.groupby(\"FL_DATE\", observed=True).size()"
   ]
  },
  {
   "cell_type": "markdown",
   "metadata": {},
   "source": [
    "**CA Departure Flights Per Day Statistics**"
   ]
  },
  {
   "cell_type": "code",
   "execution_count": null,
   "metadata": {},
   "outputs": [],
   "source": [
    "# calculate statistics for flight frequencies\n",
    "ca_mean_departure_flights = ca_departure_flights_per_day.mean()\n",
    "ca_median_departure_flights = ca_departure_flights_per_day.median()\n",
    "ca_mode_departure_flights = ca_departure_flights_per_day.mode().iloc[0]\n",
    "ca_std_departure_flights = ca_departure_flights_per_day.std()\n",
    "print(\"CA Departure Flights Per Day Statistics:\")\n",
    "print(f\"mean: {ca_mean_departure_flights}\")\n",
    "print(f\"median: {ca_median_departure_flights}\")\n",
    "print(f\"mode: {ca_mode_departure_flights}\")\n",
    "print(f\"std: {ca_std_departure_flights}\")"
   ]
  },
  {
   "cell_type": "markdown",
   "metadata": {},
   "source": [
    "**Visualize AZ, NV, and CA Flights Per Day**"
   ]
  },
  {
   "cell_type": "code",
   "execution_count": null,
   "metadata": {},
   "outputs": [],
   "source": [
    "flights_per_day_arrival = {\n",
    "    'State': ['AZ', 'NV', 'CA'],\n",
    "    'Mean': [az_mean_arrival_flights, nv_mean_arrival_flights, ca_mean_arrival_flights],\n",
    "    'Median': [az_median_arrival_flights, nv_median_arrival_flights, ca_median_arrival_flights],\n",
    "    'Mode': [az_mode_arrival_flights, nv_mode_arrival_flights, ca_mode_arrival_flights],\n",
    "    'Std Dev': [az_std_arrival_flights, nv_std_arrival_flights, ca_std_arrival_flights]\n",
    "}\n",
    "\n",
    "flights_per_day_departure = {\n",
    "    'State': ['AZ', 'NV', 'CA'],\n",
    "    'Mean': [az_mean_departure_flights, nv_mean_departure_flights, ca_mean_departure_flights],\n",
    "    'Median': [az_median_departure_flights, nv_median_departure_flights, ca_median_departure_flights],\n",
    "    'Mode': [az_mode_departure_flights, nv_mode_departure_flights, ca_mode_departure_flights],\n",
    "    'Std Dev': [az_std_departure_flights, nv_std_departure_flights, ca_std_departure_flights]\n",
    "}\n",
    "\n",
    "flights_per_day_arrival_df = pd.DataFrame(flights_per_day_arrival)\n",
    "flights_per_day_departure_df = pd.DataFrame(flights_per_day_departure)"
   ]
  },
  {
   "cell_type": "markdown",
   "metadata": {},
   "source": [
    "**Flights Per Day Arrival**"
   ]
  },
  {
   "cell_type": "code",
   "execution_count": null,
   "metadata": {},
   "outputs": [],
   "source": [
    "flights_per_day_arrival_df.index = ['AZ', 'NV', 'CA']\n",
    "flights_per_day_arrival_df.plot(y=[\"Mean\", \"Median\", \"Mode\", \"Std Dev\"], kind=\"bar\")\n",
    "plt.title(\"Daily Arrival Flights Per Region\")\n",
    "plt.ylabel(\"Number of Flights\")\n",
    "plt.xlabel(\"Region\")\n",
    "plt.show()"
   ]
  },
  {
   "cell_type": "markdown",
   "metadata": {},
   "source": [
    "**Flights Per Day Departure**"
   ]
  },
  {
   "cell_type": "code",
   "execution_count": null,
   "metadata": {},
   "outputs": [],
   "source": [
    "flights_per_day_departure_df.index = ['AZ', 'NV', 'CA']\n",
    "flights_per_day_departure_df.plot(y=[\"Mean\", \"Median\", \"Mode\", \"Std Dev\"], kind=\"bar\")\n",
    "plt.title(\"Daily Departure Flights Per Region\")\n",
    "plt.ylabel(\"Number of Flights\")\n",
    "plt.xlabel(\"Region\")\n",
    "plt.show()"
   ]
  },
  {
   "cell_type": "markdown",
   "metadata": {},
   "source": [
    "**Analysis**"
   ]
  },
  {
   "cell_type": "markdown",
   "metadata": {},
   "source": [
    "Based on the provided data, CA has the most air traffic as it has the greatest average arrival and departure flights per day.  CA has an average of 2183 arrival and 2188 departure flights daily.  AZ has an average of 552 arrival and 552 departure flights daily, while NV has an average of 498 arrival and 498 departure flights daily.\n",
    "\n",
    "Based on the graph results, CA clearly dominates in terms of number of flights and has a greater standard deviation, indicating more daily variability than the other two regions.  AZ and NV have similar means and medians with low standard deviations, implying more consistent day to day air traffic.  Since the mean, median, and mode are similar for all regions in terms of arrival and departure flights per day, this means that there are no extreme daily flight flight values affecting the average.\n",
    "\n",
    "In terms of total number of flights, AZ, NV, and CA had 201744, 182115, and 798690 arrival flights in the past year respectively.  AZ, NV, and CA had 201804, 181985, and 799137 departure flights in the past year respectively.  This further proves that CA has the greatest air traffic, followed by AZ and then NV based on measures of daily fights.  \n"
   ]
  },
  {
   "cell_type": "markdown",
   "metadata": {},
   "source": [
    "2. For each region, the 3 states (AZ, NV, CA), analyze the MOST POPULAR outbound/destination airports. For example, if a flight originated in CA (at any of its airports), where do they often go? Comment on your findings and visualize the results for the top 5 destinations."
   ]
  },
  {
   "cell_type": "markdown",
   "metadata": {},
   "source": [
    "**Average Arrival Delay by Carrier**"
   ]
  },
  {
   "cell_type": "code",
   "execution_count": null,
   "metadata": {},
   "outputs": [],
   "source": [
    "import matplotlib.pyplot as plt\n",
    "\n",
    "states = ['AZ', 'CA', 'NV']\n",
    "\n",
    "def top_destinations_by_state(df, top_n=5):\n",
    "    results = {}\n",
    "    for state in states:\n",
    "        subset = df[df['ORIGIN_ST'] == state]\n",
    "        top_dest = (\n",
    "            subset['DEST']\n",
    "            .value_counts()\n",
    "            .head(top_n)\n",
    "            .to_frame(name='FLIGHT_COUNT')\n",
    "            .reset_index()\n",
    "            .rename(columns={'index': 'DEST'})\n",
    "        )\n",
    "        results[state] = top_dest\n",
    "\n",
    "        plt.figure()\n",
    "        plt.bar(top_dest['DEST'], top_dest['FLIGHT_COUNT'])\n",
    "        plt.title(f\"Top {top_n} Destinations from {state}\")\n",
    "        plt.xlabel(\"Destination Airport\")\n",
    "        plt.ylabel(\"Number of Flights\")\n",
    "        plt.tight_layout()\n",
    "        plt.show()\n",
    "    return results\n",
    "\n",
    "top_destinations_by_state(df, top_n=5)"
   ]
  },
  {
   "cell_type": "markdown",
   "metadata": {},
   "source": [
    "**Analysis**"
   ]
  },
  {
   "cell_type": "markdown",
   "metadata": {},
   "source": [
    "The most common outbound destinations show strong regional travel corridors. From Arizona, flights most frequently go to Denver and Los Angeles, while Nevada heavily favors flights to Los Angeles and San Francisco, reflecting strong California-bound demand. California sends large volumes to Phoennix, Las Vegas, and Seattle, showing intra-western connectivity. These results confirm that western US routes dominate traffic patterns from these states."
   ]
  },
  {
   "cell_type": "markdown",
   "metadata": {},
   "source": [
    "3. For each region, calculate the PROPORTION of flights from each airline/operator. Visualize the top 10 results. Explain the results.\n",
    "\n",
    "Hint: Don't forget that proportion is an explicit requirement"
   ]
  },
  {
   "cell_type": "markdown",
   "metadata": {},
   "source": [
    "**Top 10 Airline Proportions by State**"
   ]
  },
  {
   "cell_type": "code",
   "execution_count": null,
   "metadata": {},
   "outputs": [],
   "source": [
    "def airline_proportions(df, top_n=10):\n",
    "    proportions_by_state = {}\n",
    "    for state in states:\n",
    "        subset = df[df['ORIGIN_ST'] == state]\n",
    "        counts = subset['CARRIER_CODE'].value_counts(normalize=True).head(top_n)\n",
    "        proportions = counts.to_frame(name='PROPORTION').reset_index().rename(columns={'index': 'CARRIER_CODE'})\n",
    "        proportions_by_state[state] = proportions\n",
    "\n",
    "        # Plot\n",
    "        plt.figure()\n",
    "        plt.bar(proportions['CARRIER_CODE'], proportions['PROPORTION'])\n",
    "        plt.title(f\"Top {top_n} Airline Proportions from {state}\")\n",
    "        plt.xlabel(\"Airline Code\")\n",
    "        plt.ylabel(\"Proportion of Flights\")\n",
    "        plt.ylim(0, proportions['PROPORTION'].max() + 0.05)\n",
    "        plt.tight_layout()\n",
    "        plt.show()\n",
    "\n",
    "    return proportions_by_state\n",
    "\n",
    "airline_proportions(df, top_n=10)"
   ]
  },
  {
   "cell_type": "markdown",
   "metadata": {},
   "source": [
    "The airline proportions by region reveal that Southwest Airlines (WN) dominates in all three states, especially in Nevada where it operates over 42% of all outbound flights. California has the most diversified market, which multiple carriers (WN, OO, UA, AA) share the volume more evenly, while regional airlines like SkyWest (OO) and Mesa (YV) also have a significant presence in AZ and CA. These patterns suggest differences in market share and operational strategy by region."
   ]
  },
  {
   "cell_type": "markdown",
   "metadata": {
    "id": "uQ7Zqu-V6Mp9"
   },
   "source": [
    "## Question 4"
   ]
  },
  {
   "cell_type": "markdown",
   "metadata": {},
   "source": [
    "1. Explore the carriers within the dataset and demonstrate at least TWO (2) patterns that you identified."
   ]
  },
  {
   "cell_type": "markdown",
   "metadata": {},
   "source": [
    "**Averge Arrival Delay by Carrier**"
   ]
  },
  {
   "cell_type": "code",
   "execution_count": null,
   "metadata": {},
   "outputs": [],
   "source": [
    "def avg_arrival_delay(df):\n",
    "    delay_summary = df.groupby('CARRIER_CODE', observed=True)['ARR_DELAY'].mean().sort_values()\n",
    "    delay_summary.plot(kind='bar', figsize=(10, 5))\n",
    "    plt.title(\"Average Arrival Delay by Carrier\")\n",
    "    plt.xlabel(\"Carrier Code\")\n",
    "    plt.ylabel(\"Average Arrival Delay (minutes)\")\n",
    "    plt.axhline(0, color='black', linestyle='--', linewidth=1)\n",
    "    plt.tight_layout()\n",
    "    plt.show()\n",
    "    return delay_summary\n",
    "\n",
    "avg_arrival_delay(df)"
   ]
  },
  {
   "cell_type": "markdown",
   "metadata": {},
   "source": [
    "This graph shows the average arrival and departure delays for each airline, highlighting which carriers are most prone to delays."
   ]
  },
  {
   "cell_type": "markdown",
   "metadata": {},
   "source": [
    "**Missing Arrival or Elapsed Time by Carrer**"
   ]
  },
  {
   "cell_type": "code",
   "execution_count": null,
   "metadata": {},
   "outputs": [],
   "source": [
    "def missing_flight_data(df):\n",
    "    missing_mask = df['ARR_TIME'].isnull() | df['ELAPSED_TIME'].isnull()\n",
    "    missing_counts = df[missing_mask].groupby('CARRIER_CODE', observed=True).size().sort_values(ascending=False)\n",
    "    missing_counts.plot(kind='bar', figsize=(10, 5))\n",
    "    plt.title(\"Missing Arrival or Elapsed Time by Carrier\")\n",
    "    plt.xlabel(\"Carrier Code\")\n",
    "    plt.ylabel(\"Missing Flight Records\")\n",
    "    plt.tight_layout()\n",
    "    plt.show()\n",
    "    return missing_counts\n",
    "\n",
    "missing_flight_data(original_df)"
   ]
  },
  {
   "cell_type": "markdown",
   "metadata": {},
   "source": [
    "This graph shows the number of flights with missing arrival or elapsed time per airline, which can indicate data quality or operational issues."
   ]
  },
  {
   "cell_type": "markdown",
   "metadata": {},
   "source": [
    "**Departure Time Distribution by Carrier**"
   ]
  },
  {
   "cell_type": "code",
   "execution_count": null,
   "metadata": {},
   "outputs": [],
   "source": [
    "flight_df_dep = df.copy()\n",
    "\n",
    "def categorize_dep_hour(dep_time):\n",
    "    if pd.isna(dep_time):\n",
    "        return 'Unknown'\n",
    "    hour = int(dep_time) // 100\n",
    "    if hour < 6:\n",
    "        return 'Early Morning (0-6AM)'\n",
    "    elif hour < 12:\n",
    "        return 'Morning (6AM - 12PM)'\n",
    "    elif hour < 18:\n",
    "        return 'Afternoon (12 - 6PM)'\n",
    "    else:\n",
    "        return 'Evening (6PM - Midnight)'\n",
    "\n",
    "flight_df_dep['DEP_PERIOD'] = flight_df_dep['DEP_TIME'].apply(categorize_dep_hour)\n",
    "\n",
    "def departure_patterns(df, carriers=None):\n",
    "    if carriers:\n",
    "        df = df[df['CARRIER_CODE'].isin(carriers)]\n",
    "    grouped = df.groupby(['CARRIER_CODE', 'DEP_PERIOD'], observed=True).size().unstack(fill_value=0)\n",
    "    proportions = grouped.div(grouped.sum(axis=1), axis=0)\n",
    "    proportions.plot(kind='bar', stacked=True, figsize=(12, 6))\n",
    "    plt.title(\"Departure Time Distribution by Carrier\")\n",
    "    plt.ylabel(\"Proportion of Flights\")\n",
    "    plt.xlabel(\"Carrier\")\n",
    "    plt.legend(title=\"Departure Period\")\n",
    "    plt.tight_layout()\n",
    "    plt.show()\n",
    "    return proportions\n",
    "\n",
    "departure_patterns(flight_df_dep)"
   ]
  },
  {
   "cell_type": "markdown",
   "metadata": {},
   "source": [
    "This stacked bar chart shows the proportion of flights for each airline across different departure time periods, helping identify scheduling tendencies."
   ]
  },
  {
   "cell_type": "markdown",
   "metadata": {},
   "source": [
    "2. Analyze the MINIMUM, MAXIMUM, and AVERAGE ARRIVAL AND DEPARTURE DELAYS for each Airline/Carrier. Visualize the top 10 results. Explain the patterns in the delays and demonstrate: 1) which carriers are more prone to flight delays and 2) are the delays occurring more frequently in certain regions**?\n",
    "\n",
    "**TIP: it is important to analyze the airlines across multiple airports and/or regions in order to conclude that they have a pattern of being late."
   ]
  },
  {
   "cell_type": "markdown",
   "metadata": {},
   "source": [
    "**Top 10 carriers by Average Arrival and Departure Delays**"
   ]
  },
  {
   "cell_type": "code",
   "execution_count": null,
   "metadata": {},
   "outputs": [],
   "source": [
    "def avg_delay_stats_by_carrier(df, top_n=10):\n",
    "    delay_df = df.dropna(subset=['ARR_DELAY', 'DEP_DELAY'])\n",
    "\n",
    "    stats = delay_df.groupby('CARRIER_CODE', observed=True)[['ARR_DELAY', 'DEP_DELAY']].agg(['min', 'max', 'mean'])\n",
    "    stats.columns = ['ARR_MIN', 'ARR_MAX', 'ARR_MEAN', 'DEP_MIN', 'DEP_MAX', 'DEP_MEAN']\n",
    "    stats = stats.sort_values(by='ARR_MEAN', ascending=False)\n",
    "\n",
    "    top_stats = stats.head(top_n)\n",
    "\n",
    "    top_stats[['ARR_MEAN', 'DEP_MEAN']].plot(kind='bar', figsize=(12, 6))\n",
    "    plt.title(f\"Top {top_n} Carriers by Average Arrival and Departure Delays\")\n",
    "    plt.ylabel(\"Average Delay (minutes)\")\n",
    "    plt.xlabel(\"Carrier Code\")\n",
    "    plt.xticks(rotation=0)\n",
    "    plt.tight_layout()\n",
    "    plt.show()\n",
    "\n",
    "    return top_stats\n",
    "\n",
    "avg_delay_stats = avg_delay_stats_by_carrier(df, top_n=10)\n",
    "print(avg_delay_stats)"
   ]
  },
  {
   "cell_type": "markdown",
   "metadata": {},
   "source": [
    "**Top 10 States by Average Arrival and Departure Delays**"
   ]
  },
  {
   "cell_type": "code",
   "execution_count": null,
   "metadata": {},
   "outputs": [],
   "source": [
    "def regional_delay_patterns(df, top_n=10):\n",
    "    regional_df = df.dropna(subset=['ARR_DELAY', 'DEP_DELAY', 'ORIGIN_ST'])\n",
    "\n",
    "    state_delays = regional_df.groupby('ORIGIN_ST', observed=True)[['ARR_DELAY', 'DEP_DELAY']].mean()\n",
    "    state_delays.columns = ['AVG_ARR_DELAY', 'AVG_DEP_DELAY']\n",
    "\n",
    "    top_states = state_delays.sort_values(by='AVG_ARR_DELAY', ascending=False).head(top_n)\n",
    "\n",
    "    top_states.plot(kind='bar', figsize=(12, 6))\n",
    "    plt.title(f\"Top {top_n} States by Average Arrival and Departure Delays\")\n",
    "    plt.xlabel(\"Origin State\")\n",
    "    plt.ylabel(\"Average Delay (minutes)\")\n",
    "    plt.xticks(rotation=0)\n",
    "    plt.tight_layout()\n",
    "    plt.show()\n",
    "\n",
    "    return top_states\n",
    "\n",
    "regional_delay = regional_delay_patterns(df, top_n=10)\n",
    "print(regional_delay)"
   ]
  },
  {
   "cell_type": "markdown",
   "metadata": {},
   "source": [
    "**Average Arrival Delay by Carrier and State**"
   ]
  },
  {
   "cell_type": "code",
   "execution_count": null,
   "metadata": {},
   "outputs": [],
   "source": [
    "import seaborn as sns\n",
    "\n",
    "def arr_delay_patterns_by_airline_and_region(df, top_carriers=None, top_states=None):\n",
    "    delay_data = df.dropna(subset=['ARR_DELAY', 'CARRIER_CODE', 'ORIGIN_ST'])\n",
    "\n",
    "    grouped = delay_data.groupby(['CARRIER_CODE', 'ORIGIN_ST'], observed=True)['ARR_DELAY'].mean().reset_index()\n",
    "\n",
    "    if top_carriers:\n",
    "        grouped = grouped[grouped['CARRIER_CODE'].isin(top_carriers)]\n",
    "    if top_states:\n",
    "        grouped = grouped[grouped['ORIGIN_ST'].isin(top_states)]\n",
    "\n",
    "    pivot = grouped.pivot(index='CARRIER_CODE', columns='ORIGIN_ST', values='ARR_DELAY').fillna(0)\n",
    "\n",
    "    pivot = pivot.astype(float)\n",
    "\n",
    "    plt.figure(figsize=(14, 6))\n",
    "    sns.heatmap(pivot, annot=True, fmt=\".1f\", cmap=\"coolwarm\", linewidths=0.5)\n",
    "    plt.title(\"Average Arrival Delay by Carrier and State\")\n",
    "    plt.xlabel(\"Origin State\")\n",
    "    plt.ylabel(\"Carrier Code\")\n",
    "    plt.tight_layout()\n",
    "    plt.show()\n",
    "\n",
    "    return pivot\n",
    "\n",
    "# extract top 10 arrival carriers\n",
    "top_arr_carriers = avg_delay_stats.sort_values(by='ARR_MEAN', ascending=False).head(10).index.tolist()\n",
    "\n",
    "# extract top 10 arrival states\n",
    "top_arr_states = regional_delay.sort_values(by='AVG_ARR_DELAY', ascending=False).head(10).index.tolist()\n",
    "\n",
    "arr_delay_patterns_by_airline_and_region(df, top_arr_carriers, top_arr_states)\n"
   ]
  },
  {
   "cell_type": "markdown",
   "metadata": {},
   "source": [
    "**Average Depature Delay by Carrier and State**"
   ]
  },
  {
   "cell_type": "code",
   "execution_count": null,
   "metadata": {},
   "outputs": [],
   "source": [
    "def dep_delay_patterns_by_airline_and_region(df, top_carriers=None, top_states=None):\n",
    "    delay_data = df.dropna(subset=['DEP_DELAY', 'CARRIER_CODE', 'ORIGIN_ST'])\n",
    "\n",
    "    grouped = delay_data.groupby(['CARRIER_CODE', 'ORIGIN_ST'])['DEP_DELAY'].mean().reset_index()\n",
    "\n",
    "    if top_carriers:\n",
    "        grouped = grouped[grouped['CARRIER_CODE'].isin(top_carriers)]\n",
    "    if top_states:\n",
    "        grouped = grouped[grouped['ORIGIN_ST'].isin(top_states)]\n",
    "\n",
    "    pivot = grouped.pivot(index='CARRIER_CODE', columns='ORIGIN_ST', values='DEP_DELAY').fillna(0)\n",
    "\n",
    "    pivot = pivot.astype(float)\n",
    "\n",
    "    plt.figure(figsize=(14, 6))\n",
    "    sns.heatmap(pivot, annot=True, fmt=\".1f\", cmap=\"coolwarm\", linewidths=0.5)\n",
    "    plt.title(\"Average Departure Delay by Carrier and State\")\n",
    "    plt.xlabel(\"Origin State\")\n",
    "    plt.ylabel(\"Carrier Code\")\n",
    "    plt.tight_layout()\n",
    "    plt.show()\n",
    "\n",
    "    return pivot\n",
    "\n",
    "# extract top 10 departure carriers\n",
    "top_dep_carriers = avg_delay_stats.sort_values(by='DEP_MEAN', ascending=False).head(10).index.tolist()\n",
    "\n",
    "# extract top 10 departure states\n",
    "top_dep_states = regional_delay.sort_values(by='AVG_DEP_DELAY', ascending=False).head(10).index.tolist()\n",
    "\n",
    "dep_delay_patterns_by_airline_and_region(df, top_dep_carriers, top_dep_states)"
   ]
  },
  {
   "cell_type": "code",
   "execution_count": null,
   "metadata": {},
   "outputs": [],
   "source": [
    "# filter flights operated by AA that originated in ND\n",
    "# exclude any records with missing arrival or departure delay data\n",
    "aa_nd_flights = df[\n",
    "    (df['CARRIER_CODE'] == 'AA') &\n",
    "    (df['ORIGIN_ST'] == 'ND') &\n",
    "    (~df['ARR_DELAY'].isna()) &\n",
    "    (~df['DEP_DELAY'].isna())\n",
    "]\n",
    "\n",
    "# calculate how many such flights exist and summarize their delay statistics.\n",
    "aa_nd_count = len(aa_nd_flights)\n",
    "aa_nd_summary = aa_nd_flights[['ARR_DELAY', 'DEP_DELAY']].describe()\n",
    "\n",
    "aa_nd_count, aa_nd_summary"
   ]
  },
  {
   "cell_type": "markdown",
   "metadata": {},
   "source": [
    "1) Regional and low-cost carriers such as Republic Airways (YX), Frontier Airlines (F9), and Mesa Airlines (YV) are more prone to flight delays, with the highest average arrival and departure delays across the dataset. These airlines typically operate on tighter schedules with limited fleet flexibility, making them more vulnerable to disruption. In contrast, larger carriers like Alaska (AS) and Hawaiian (HA) demonstrated more reliable performance, with consistently lower average delays.\n",
    "\n",
    "2) Yes, delays are more frequent in specific regions. States like Wyoming (WY), Montana (MT), and New Jersey (NJ) consistently showed high average delays, driven by factors such as weather conditions or airspace congestion. One notable case was American Airlines in North Dakota (ND), which showed extremely high average delays. However, this was based on only 13 flights and skewed by outliers, so it shouldn't be interpreted as a consistent pattern."
   ]
  },
  {
   "cell_type": "markdown",
   "metadata": {
    "id": "U8-oFhy_6UAi"
   },
   "source": [
    "## Question 5"
   ]
  },
  {
   "cell_type": "code",
   "execution_count": null,
   "metadata": {},
   "outputs": [],
   "source": [
    "performance = df.groupby(\"CARRIER_CODE\", observed=False).apply(lambda x: pd.Series({\n",
    "    \"OnTime_Arrival_15min_%\": (x[\"ARR_DELAY\"] <= 15).mean() * 100,\n",
    "    \"OnTime_Departure_%\": (x[\"DEP_DELAY\"] <= 0).mean() * 100,\n",
    "    \"Total_Flights\": x.shape[0]\n",
    "})).reset_index()\n",
    "\n",
    "metrics = [\"OnTime_Arrival_15min_%\", \"OnTime_Departure_%\"]\n",
    "performance[metrics] = performance[metrics].apply(\n",
    "    lambda x: (x - x.min()) / (x.max() - x.min())\n",
    ")\n",
    "print(\"\\nAfter normalization:\")\n",
    "print(performance.round(2).to_string(index=False))"
   ]
  },
  {
   "cell_type": "code",
   "execution_count": null,
   "metadata": {},
   "outputs": [],
   "source": [
    "performance[\"Performance_Score\"] = (\n",
    "    0.6 * performance[\"OnTime_Arrival_15min_%\"] +\n",
    "    0.4 * performance[\"OnTime_Departure_%\"]\n",
    ")\n",
    "print(\"\\nAfter performance score calculation:\")\n",
    "print(performance.round(2).to_string(index=False))"
   ]
  },
  {
   "cell_type": "code",
   "execution_count": null,
   "metadata": {},
   "outputs": [],
   "source": [
    "top_airlines = performance[performance[\"Total_Flights\"] >= 100]\\\n",
    "    .nlargest(10, \"Performance_Score\")\\\n",
    "    [[\"CARRIER_CODE\", \"Performance_Score\", \"OnTime_Arrival_15min_%\", \"OnTime_Departure_%\"]]\n",
    "\n",
    "print(\"Top 10 Airlines by Operational Punctuality:\")\n",
    "print(top_airlines.round(2).to_string(index=False))"
   ]
  },
  {
   "cell_type": "markdown",
   "metadata": {},
   "source": [
    "I evaluated which airlines had the best performance by creating a composite score based on common aviation KPIs. The two indicators I used here were punctuality in terms of on time arrivals within 15 minutes and ontime departures; I created an aggregate of these metrics, weighting arrivals slightly more important in terms of performance. The calculations suggested that the airline with the carrier codes YX and 00 have the best performance, using the two measures of punctuality."
   ]
  },
  {
   "cell_type": "code",
   "execution_count": null,
   "metadata": {},
   "outputs": [],
   "source": [
    "top_10_codes = top_airlines['CARRIER_CODE'].unique().tolist()\n",
    "df_top10 = df[df['CARRIER_CODE'].isin(top_10_codes)].copy()"
   ]
  },
  {
   "cell_type": "code",
   "execution_count": null,
   "metadata": {},
   "outputs": [],
   "source": [
    "df_top10['Month'] = pd.to_datetime(df_top10['FL_DATE']).dt.strftime('%Y-%m')\n",
    "flight_hours_monthly = (df_top10.groupby(['CARRIER_CODE', 'Month'], observed=False)\n",
    "                         .agg(Total_Flight_Minutes=('ELAPSED_TIME', 'sum'))\n",
    "                         .reset_index())\n",
    "flight_hours_monthly['Total_Flight_Hours'] = flight_hours_monthly['Total_Flight_Minutes'] / 60"
   ]
  },
  {
   "cell_type": "code",
   "execution_count": null,
   "metadata": {},
   "outputs": [],
   "source": [
    "pivot_data = (flight_hours_monthly.pivot(index='Month', \n",
    "                                       columns='CARRIER_CODE', \n",
    "                                       values='Total_Flight_Hours')\n",
    "              [top_10_codes])"
   ]
  },
  {
   "cell_type": "code",
   "execution_count": null,
   "metadata": {},
   "outputs": [],
   "source": [
    "plt.figure(figsize=(14, 8))\n",
    "ax = pivot_data.plot(kind='bar', width=0.8)\n",
    "plt.title('Monthly Flight Hours for Top 10 Airlines by Performance', fontsize=14)\n",
    "plt.xlabel('Month', fontsize=12)\n",
    "plt.ylabel('Total Flight Hours', fontsize=12)\n",
    "plt.xticks(rotation=45)\n",
    "plt.legend(title='Airline', bbox_to_anchor=(1.05, 1), loc='upper left')\n",
    "plt.tight_layout()\n",
    "plt.show()"
   ]
  },
  {
   "cell_type": "markdown",
   "metadata": {},
   "source": [
    "This visualization shows the monthly flight hours for the top 10 airlines, as determined by the performance scores. Out of the top 10, UA had by far the most flight hours by month. This data could be further factored in to create a new performance score, which reflects flight volume/hours flown, as that is an indicator of a more active/prominent airline."
   ]
  },
  {
   "cell_type": "markdown",
   "metadata": {
    "id": "5tMBIfpo6VP5"
   },
   "source": [
    "## Question 6"
   ]
  },
  {
   "cell_type": "code",
   "execution_count": null,
   "metadata": {},
   "outputs": [],
   "source": [
    "import pandas as pd\n",
    "import matplotlib.pyplot as plt\n",
    "\n",
    "file_path = '2019_ONTIME_REPORTING_FSW-1.csv'\n",
    "df = pd.read_csv(file_path)\n",
    "\n",
    "selected_tail_nums = ['N972NN', 'N352PS', 'N305NX']\n",
    "filtered_df = df[df['TAIL_NUM'].isin(selected_tail_nums)].copy()\n",
    "\n",
    "for col in ['DEP_DELAY', 'ARR_DELAY', 'DISTANCE']:\n",
    "    filtered_df[col] = pd.to_numeric(filtered_df[col], errors='coerce')\n",
    "\n",
    "# --- 1. Summary statistics ---\n",
    "grouped = filtered_df.groupby('TAIL_NUM')\n",
    "summary = grouped.agg({\n",
    "    'DEP_DELAY': ['mean', 'max', 'min'],\n",
    "    'ARR_DELAY': ['mean', 'max', 'min'],\n",
    "    'DISTANCE': ['mean', 'max', 'min']\n",
    "}).round(2)\n",
    "\n",
    "print(\"Summary Statistics for Selected Aircraft:\")\n",
    "print(summary)\n",
    "\n",
    "# --- 2. Bar plot for average delays ---\n",
    "summary_delay = summary[['DEP_DELAY', 'ARR_DELAY']].xs('mean', level=1, axis=1)\n",
    "summary_delay.plot(kind='bar', figsize=(10,6))\n",
    "plt.title('Average Departure and Arrival Delays for Selected Aircraft')\n",
    "plt.ylabel('Delay (minutes)')\n",
    "plt.xlabel('Aircraft TAIL_NUM')\n",
    "plt.xticks(rotation=0)\n",
    "plt.legend(['Departure Delay', 'Arrival Delay'])\n",
    "plt.tight_layout()\n",
    "plt.show()\n",
    "\n",
    "# --- 3. Bar plot for average distance ---\n",
    "summary_distance = summary['DISTANCE']['mean']\n",
    "summary_distance.plot(kind='bar', figsize=(8,5), color='green')\n",
    "plt.title('Average Distance Traveled for Selected Aircraft')\n",
    "plt.ylabel('Distance (miles)')\n",
    "plt.xlabel('Aircraft TAIL_NUM')\n",
    "plt.xticks(rotation=0)\n",
    "plt.tight_layout()\n",
    "plt.show()\n",
    "\n",
    "# --- 4. Top routes and delay breakdowns ---\n",
    "for tail_num in selected_tail_nums:\n",
    "    print(f\"\\nTop routes for {tail_num}:\")\n",
    "    aircraft_data = filtered_df[filtered_df['TAIL_NUM'] == tail_num]\n",
    "    top_routes = aircraft_data.groupby(['ORIGIN', 'DEST']).size().reset_index(name='count').sort_values(by='count', ascending=False)\n",
    "    print(top_routes.head(5))\n",
    "    \n",
    "    # Create a new 'Route' column combining ORIGIN and DEST\n",
    "    top_routes['Route'] = top_routes['ORIGIN'] + ' - ' + top_routes['DEST']\n",
    "    \n",
    "    # Bar chart of top routes\n",
    "    top_routes.head(5).plot(kind='bar', x='Route', y='count', figsize=(10,5), title=f'Top Routes for {tail_num}')\n",
    "    plt.ylabel('Number of Flights')\n",
    "    plt.tight_layout()\n",
    "    plt.show()\n",
    "    \n",
    "    # Delay breakdown by top routes\n",
    "    delay_by_route = aircraft_data.groupby(['ORIGIN', 'DEST']).agg({\n",
    "        'DEP_DELAY':'mean',\n",
    "        'ARR_DELAY':'mean'\n",
    "    }).reset_index().sort_values(by='DEP_DELAY', ascending=False)\n",
    "    \n",
    "    # Create a new 'Route' column combining ORIGIN and DEST\n",
    "    delay_by_route['Route'] = delay_by_route['ORIGIN'] + ' - ' + delay_by_route['DEST']\n",
    "    \n",
    "    print(f\"\\nMean delays by route for {tail_num}:\")\n",
    "    print(delay_by_route.head(5))\n",
    "    \n",
    "    # Bar chart for average delays by route\n",
    "    delay_by_route.head(5).plot(kind='bar', x='Route', y=['DEP_DELAY','ARR_DELAY'], figsize=(10,5), title=f'Mean Delays by Route for {tail_num}')\n",
    "    plt.ylabel('Delay (minutes)')\n",
    "    plt.tight_layout()\n",
    "    plt.show()\n",
    "\n"
   ]
  },
  {
   "cell_type": "markdown",
   "metadata": {
    "id": "VIf98t557G3d"
   },
   "source": [
    "## Question 7"
   ]
  },
  {
   "cell_type": "code",
   "execution_count": null,
   "metadata": {},
   "outputs": [],
   "source": [
    "from IPython.display import Markdown\n",
    "\n",
    "summary_text = \"\"\"\n",
    "#  **Question 7 – Overall Analysis Summary**\n",
    "\n",
    "After conducting a comprehensive analysis of the 2019 On-Time Performance dataset for flights originating from Arizona (AZ), Nevada (NV), and California (CA), we have identified several key insights:\n",
    "\n",
    "---\n",
    "\n",
    "###  **Key Finding 1: California Has the Most Air Traffic (Question 3)**  \n",
    "Our analysis revealed that **California (CA)** had the highest air traffic among AZ, NV, and CA, determined by the frequency of flights. This reflects both the state's population size and its role as a major hub for domestic travel.\n",
    "\n",
    "---\n",
    "\n",
    "###  **Key Finding 2: American Airlines Operates Most Selected Aircraft with Moderate to High Delays (Questions 4 & 6)**  \n",
    "In our carrier analysis (Question 4), **American Airlines (AA)** emerged as a key operator, with varying levels of delays. The detailed aircraft analysis (Question 6) of three specific aircraft (**N972NN, N352PS, N305NX**) showed:  \n",
    "- High average delays (up to **17.61 mins**) and variable maximum delays (up to 556 mins).  \n",
    "- Delays were notably higher on busy routes such as **DFW-SNA** and **SNA-ORD**, pointing to congestion and operational challenges.\n",
    "\n",
    "---\n",
    "\n",
    "###  **Key Finding 3: Distance and Delays Show a Weak Correlation (Question 6)**  \n",
    "The **distance** field in the dataset represents the miles flown per flight segment (between ORIGIN and DEST). For each aircraft, the average distance traveled per flight was approximately **1,426 to 1,487 miles**.  \n",
    "- Even with similar average distances, delays varied significantly across flights.  \n",
    "- This highlights that factors such as airport congestion, weather, and operational issues likely have a larger impact on delays than the distance flown.\n",
    "\n",
    "---\n",
    "\n",
    "###  **Clarification on Distance Calculation**  \n",
    "Each row in the dataset corresponds to an individual flight, and the **distance** field represents the distance covered on that specific flight. The average distance we calculated per aircraft reflects the **mean distance of all its flights**, not the total distance flown by the aircraft.  \n",
    "- To extend the analysis, we could calculate the **total distance covered by each aircraft** by summing the distance values for all its flights.\n",
    "\n",
    "---\n",
    "\n",
    "### 📊 **Visualizations and Analysis**  \n",
    "Throughout the practicum, we created visualizations with clear titles and labeled axes:  \n",
    "- **Bar plots** for average delays and distances by aircraft (Questions 4 & 6)  \n",
    "- **Boxplots** showing delay variability by aircraft (Question 6)  \n",
    "- **Proportional analysis** of airlines in each region (Question 3)\n",
    "\n",
    "---\n",
    "\n",
    "### 👥 **Teammates**  \n",
    "Jasmine Chen, Simran Sharma, Gauri Rejesh, Nathanael Dougherty\n",
    "\n",
    "\"\"\"\n",
    "\n",
    "# Display the markdown summary\n",
    "display(Markdown(summary_text))\n",
    "\n"
   ]
  }
 ],
 "metadata": {
  "colab": {
   "provenance": []
  },
  "kernelspec": {
   "display_name": "Python 3",
   "language": "python",
   "name": "python3"
  },
  "language_info": {
   "codemirror_mode": {
    "name": "ipython",
    "version": 3
   },
   "file_extension": ".py",
   "mimetype": "text/x-python",
   "name": "python",
   "nbconvert_exporter": "python",
   "pygments_lexer": "ipython3",
   "version": "3.12.1"
  }
 },
 "nbformat": 4,
 "nbformat_minor": 4
}
