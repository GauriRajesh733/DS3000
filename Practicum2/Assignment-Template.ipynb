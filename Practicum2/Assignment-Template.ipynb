{
 "cells": [
  {
   "cell_type": "markdown",
   "metadata": {},
   "source": [
    "# DS 3000 - Assignment [TODO: enter assignment number]\n",
    "\n",
    "**Student Name**: [TODO: Enter your name here]\n",
    "\n",
    "**Date**: [TODO: Enter the date]\n",
    "\n",
    "\n",
    "### Submission Instructions\n",
    "Submit this `ipynb` file to canvas.\n",
    "\n",
    "The `ipynb` format stores outputs from the last time you ran the notebook.  (When you open a notebook it has the figures and outputs of the last time you ran it too).  To ensure that your submitted `ipynb` file represents your latest code, make sure to give a fresh run `Kernel > Restart & Run All` just before uploading the `ipynb` file to Canvas.\n",
    "\n",
    "### Academic Integrity\n",
    "\n",
    "**Writing your homework is an individual effort.**  You may discuss general python problems with other students but under no circumstances should you observe another student's code which was written for this assignment, from this year or past years.  Pop into office hours or DM us in MS Teams if you have a specific question about your work or if you would like another pair of eyes or talk through your code.\n",
    "\n",
    "Don't forget to cite websites which helped you solve a problem in a unique way.  You can do this in markdown near the code or with a simple one-line comment. You do not need to cite the official python documentation.\n",
    "\n",
    "**Documentation / style counts for credit**  Please refer to the Pep-8 style, to improve the readability and consistency of your Python code. For more information, read the following article [How to Write Beautiful Python Code With PEP 8](https://realpython.com/python-pep8/) or ask your TA's for tips.\n",
    "\n",
    "**NOTE:<span style='color:red'> Write python expressions to answer ALL questions below and ensure that you use the `print()` function to display the output.</span>** Each question should be answered in a new code cell. For example, your solution for question 1.1 should be in a different code cell from your solution for question 1.2."
   ]
  },
  {
   "cell_type": "markdown",
   "metadata": {},
   "source": [
    "## Question 1: \n",
    "\n",
    "DS Problem:\n",
    "\n",
    "The objective of this project to develop a machine learning model that will accurately predict a person's diabetic status (diabetic, pre-diabetic, or non-diabetic) based on various health features collected by the CDC's Behavioral Risk Factor Surveillance System. Essentially, we will find patterns in the data that will assist in early idenification of at risk indiviuals to help inform public health interventios aimed at preventing or delayignt he onset of diabetes. \n"
   ]
  },
  {
   "cell_type": "markdown",
   "metadata": {},
   "source": [
    "## Question 2: \n",
    "**Prepare the Data**\n",
    "\n",
    "Evaluate the dataset to determine if ALL variables are represented in their expected type. Convert variables to suitable data types for ML modeling. This means that you need to identify categorical data, discrete and continuous variables represent them accordingly.\n",
    "Analyze the data to determine what preprocessing steps are needed to ensure that the following are handled: 1) missing values, 2) invalid values, 3) outliers. Perform the required data preparation steps and justify the approach that is taken to prepare the data for analysis. "
   ]
  },
  {
   "cell_type": "code",
   "execution_count": null,
   "metadata": {},
   "outputs": [],
   "source": [
    "import pandas as pd \n",
    "url = 'diabetes_012_health_indicators_BRFSS2015.csv'\n",
    "df = pd.read_csv(url)"
   ]
  },
  {
   "cell_type": "markdown",
   "metadata": {},
   "source": [
    "**Checking For Missing Values**"
   ]
  },
  {
   "cell_type": "markdown",
   "metadata": {},
   "source": [
    "df.isnull().mean()*100"
   ]
  },
  {
   "cell_type": "markdown",
   "metadata": {},
   "source": [
    "It is noted there are \"no\" missing values but there could be invalid ones"
   ]
  },
  {
   "cell_type": "code",
   "execution_count": null,
   "metadata": {},
   "outputs": [],
   "source": [
    "valid_ranges = {'HighBP': [0,1],\n",
    "    'HighChol': [0,1],\n",
    "    'CholCheck': [0,1],\n",
    "    'Smoker': [0,1],\n",
    "    'Stroke': [0,1],\n",
    "    'HeartDiseaseorAttack': [0,1],\n",
    "    'PhysActivity': [0,1],\n",
    "    'Fruits': [0,1],\n",
    "    'Veggies': [0,1],\n",
    "    'HvyAlcoholConsump': [0,1],\n",
    "    'AnyHealthcare': [0,1],\n",
    "    'NoDocbcCost': [0,1],\n",
    "    'DiffWalk': [0,1],\n",
    "    'Sex': [0,1],\n",
    "\n",
    "    #Ordinal stuff\n",
    "    'GenHlth': [1,5],\n",
    "    'Age': [1,13],\n",
    "    'Education': [1,6],\n",
    "    'Income':[1,8],\n",
    "    #Contiious\n",
    "    'BMI': [10,70], #Adult ranges\n",
    "    'MentHlth':[0,30],\n",
    "    'PhysHlth':[0,30]\n",
    "}\n",
    "                  "
   ]
  },
  {
   "cell_type": "code",
   "execution_count": null,
   "metadata": {},
   "outputs": [],
   "source": [
    "def check_invalid(df, col, valid_range):\n",
    "    min_val, max_val = valid_range\n",
    "    invalid_mask = (df[col] < min_val) | (df[col] > max_val)\n",
    "    invalid_rows = df[invalid_mask]\n",
    "    \n",
    "    print(f\"\\nChecking column: {col}\")\n",
    "    print(f\"  Invalid values outside range {valid_range}: {len(invalid_rows)}\")\n",
    "\n",
    "# Run checks on all columns\n",
    "for col, rng in valid_ranges.items():\n",
    "    check_invalid(df, col, rng)"
   ]
  },
  {
   "cell_type": "markdown",
   "metadata": {},
   "source": [
    "BMIs outside the range of 10 to 70 are considered biologically implausible and are likely data entry errors. These entries were excluded from the analysis to avoid skewing the model and introducing bias"
   ]
  },
  {
   "cell_type": "code",
   "execution_count": null,
   "metadata": {},
   "outputs": [],
   "source": [
    "df = df[(df['BMI'] >= 10) & (df['BMI'] <= 70)]"
   ]
  },
  {
   "cell_type": "markdown",
   "metadata": {},
   "source": [
    "**Data Type Conversions**"
   ]
  },
  {
   "cell_type": "markdown",
   "metadata": {},
   "source": [
    "## Helpful resources \n",
    "Don't forget to cite websites which helped you solve a problem in a unique way.  You can do this in markdown near the code or with a simple one-line comment inside the code cell, or you can list them below. \n",
    "\n",
    "You do not need to cite the official python documentation.\n"
   ]
  }
 ],
 "metadata": {
  "kernelspec": {
   "display_name": "Python 3",
   "language": "python",
   "name": "python3"
  },
  "language_info": {
   "codemirror_mode": {
    "name": "ipython",
    "version": 3
   },
   "file_extension": ".py",
   "mimetype": "text/x-python",
   "name": "python",
   "nbconvert_exporter": "python",
   "pygments_lexer": "ipython3",
   "version": "3.9.16"
  }
 },
 "nbformat": 4,
 "nbformat_minor": 4
}
