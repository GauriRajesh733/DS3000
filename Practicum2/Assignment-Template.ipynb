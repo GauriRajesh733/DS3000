{
 "cells": [
  {
   "cell_type": "markdown",
   "metadata": {},
   "source": [
    "# DS 3000 - Assignment [TODO: enter assignment number]\n",
    "\n",
    "**Student Name**: [TODO: Enter your name here]\n",
    "\n",
    "**Date**: [TODO: Enter the date]\n",
    "\n",
    "\n",
    "### Submission Instructions\n",
    "Submit this `ipynb` file to canvas.\n",
    "\n",
    "The `ipynb` format stores outputs from the last time you ran the notebook.  (When you open a notebook it has the figures and outputs of the last time you ran it too).  To ensure that your submitted `ipynb` file represents your latest code, make sure to give a fresh run `Kernel > Restart & Run All` just before uploading the `ipynb` file to Canvas.\n",
    "\n",
    "### Academic Integrity\n",
    "\n",
    "**Writing your homework is an individual effort.**  You may discuss general python problems with other students but under no circumstances should you observe another student's code which was written for this assignment, from this year or past years.  Pop into office hours or DM us in MS Teams if you have a specific question about your work or if you would like another pair of eyes or talk through your code.\n",
    "\n",
    "Don't forget to cite websites which helped you solve a problem in a unique way.  You can do this in markdown near the code or with a simple one-line comment. You do not need to cite the official python documentation.\n",
    "\n",
    "**Documentation / style counts for credit**  Please refer to the Pep-8 style, to improve the readability and consistency of your Python code. For more information, read the following article [How to Write Beautiful Python Code With PEP 8](https://realpython.com/python-pep8/) or ask your TA's for tips.\n",
    "\n",
    "**NOTE:<span style='color:red'> Write python expressions to answer ALL questions below and ensure that you use the `print()` function to display the output.</span>** Each question should be answered in a new code cell. For example, your solution for question 1.1 should be in a different code cell from your solution for question 1.2."
   ]
  },
  {
   "cell_type": "markdown",
   "metadata": {},
   "source": [
    "## Question 1: \n",
    "\n",
    "DS Problem:\n",
    "\n",
    "The objective of this project to develop a machine learning model that will accurately predict a person's diabetic status (diabetic, pre-diabetic, or non-diabetic) based on various health features collected by the CDC's Behavioral Risk Factor Surveillance System. Essentially, we will find patterns in the data that will assist in early idenification of at risk indiviuals to help inform public health interventios aimed at preventing or delayignt he onset of diabetes. \n"
   ]
  },
  {
   "cell_type": "markdown",
   "metadata": {},
   "source": [
    "## Question 2: \n",
    "**Prepare the Data**\n",
    "\n",
    "Evaluate the dataset to determine if ALL variables are represented in their expected type. Convert variables to suitable data types for ML modeling. This means that you need to identify categorical data, discrete and continuous variables represent them accordingly.\n",
    "Analyze the data to determine what preprocessing steps are needed to ensure that the following are handled: 1) missing values, 2) invalid values, 3) outliers. Perform the required data preparation steps and justify the approach that is taken to prepare the data for analysis. "
   ]
  },
  {
   "cell_type": "code",
   "execution_count": 22,
   "metadata": {},
   "outputs": [],
   "source": [
    "import pandas as pd \n",
    "import seaborn as sns\n",
    "import matplotlib.pyplot as plt\n",
    "url = 'diabetes_012_health_indicators_BRFSS2015.csv'\n",
    "df = pd.read_csv(url)"
   ]
  },
  {
   "cell_type": "markdown",
   "metadata": {},
   "source": [
    "**Checking For Missing Values**"
   ]
  },
  {
   "cell_type": "code",
   "execution_count": 2,
   "metadata": {},
   "outputs": [
    {
     "data": {
      "text/plain": [
       "Diabetes_012            0.0\n",
       "HighBP                  0.0\n",
       "HighChol                0.0\n",
       "CholCheck               0.0\n",
       "BMI                     0.0\n",
       "Smoker                  0.0\n",
       "Stroke                  0.0\n",
       "HeartDiseaseorAttack    0.0\n",
       "PhysActivity            0.0\n",
       "Fruits                  0.0\n",
       "Veggies                 0.0\n",
       "HvyAlcoholConsump       0.0\n",
       "AnyHealthcare           0.0\n",
       "NoDocbcCost             0.0\n",
       "GenHlth                 0.0\n",
       "MentHlth                0.0\n",
       "PhysHlth                0.0\n",
       "DiffWalk                0.0\n",
       "Sex                     0.0\n",
       "Age                     0.0\n",
       "Education               0.0\n",
       "Income                  0.0\n",
       "dtype: float64"
      ]
     },
     "execution_count": 2,
     "metadata": {},
     "output_type": "execute_result"
    }
   ],
   "source": [
    "df.isnull().mean()*100"
   ]
  },
  {
   "cell_type": "markdown",
   "metadata": {},
   "source": [
    "It is noted there are \"no\" missing values but there could be invalid ones"
   ]
  },
  {
   "cell_type": "code",
   "execution_count": 3,
   "metadata": {},
   "outputs": [],
   "source": [
    "valid_ranges = {'HighBP': [0,1],\n",
    "    'HighChol': [0,1],\n",
    "    'CholCheck': [0,1],\n",
    "    \n",
    "    'Smoker': [0,1],\n",
    "    'Stroke': [0,1],\n",
    "    'HeartDiseaseorAttack': [0,1],\n",
    "    'PhysActivity': [0,1],\n",
    "    'Fruits': [0,1],\n",
    "    'Veggies': [0,1],\n",
    "    'HvyAlcoholConsump': [0,1],\n",
    "    'AnyHealthcare': [0,1],\n",
    "    'NoDocbcCost': [0,1],\n",
    "    'DiffWalk': [0,1],\n",
    "    'Sex': [0,1],\n",
    "\n",
    "    #Ordinal stuff\n",
    "    'GenHlth': [1,5],\n",
    "    'Age': [1,13],\n",
    "    'Education': [1,6],\n",
    "    'Income':[1,8],\n",
    "    #Contiious\n",
    "    'BMI': [10,70], #Adult ranges\n",
    "    'MentHlth':[0,30],\n",
    "    'PhysHlth':[0,30]\n",
    "}\n",
    "                  "
   ]
  },
  {
   "cell_type": "code",
   "execution_count": 4,
   "metadata": {},
   "outputs": [
    {
     "name": "stdout",
     "output_type": "stream",
     "text": [
      "\n",
      "Checking column: HighBP\n",
      "  Invalid values outside range [0, 1]: 0\n",
      "\n",
      "Checking column: HighChol\n",
      "  Invalid values outside range [0, 1]: 0\n",
      "\n",
      "Checking column: CholCheck\n",
      "  Invalid values outside range [0, 1]: 0\n",
      "\n",
      "Checking column: Smoker\n",
      "  Invalid values outside range [0, 1]: 0\n",
      "\n",
      "Checking column: Stroke\n",
      "  Invalid values outside range [0, 1]: 0\n",
      "\n",
      "Checking column: HeartDiseaseorAttack\n",
      "  Invalid values outside range [0, 1]: 0\n",
      "\n",
      "Checking column: PhysActivity\n",
      "  Invalid values outside range [0, 1]: 0\n",
      "\n",
      "Checking column: Fruits\n",
      "  Invalid values outside range [0, 1]: 0\n",
      "\n",
      "Checking column: Veggies\n",
      "  Invalid values outside range [0, 1]: 0\n",
      "\n",
      "Checking column: HvyAlcoholConsump\n",
      "  Invalid values outside range [0, 1]: 0\n",
      "\n",
      "Checking column: AnyHealthcare\n",
      "  Invalid values outside range [0, 1]: 0\n",
      "\n",
      "Checking column: NoDocbcCost\n",
      "  Invalid values outside range [0, 1]: 0\n",
      "\n",
      "Checking column: DiffWalk\n",
      "  Invalid values outside range [0, 1]: 0\n",
      "\n",
      "Checking column: Sex\n",
      "  Invalid values outside range [0, 1]: 0\n",
      "\n",
      "Checking column: GenHlth\n",
      "  Invalid values outside range [1, 5]: 0\n",
      "\n",
      "Checking column: Age\n",
      "  Invalid values outside range [1, 13]: 0\n",
      "\n",
      "Checking column: Education\n",
      "  Invalid values outside range [1, 6]: 0\n",
      "\n",
      "Checking column: Income\n",
      "  Invalid values outside range [1, 8]: 0\n",
      "\n",
      "Checking column: BMI\n",
      "  Invalid values outside range [10, 70]: 584\n",
      "\n",
      "Checking column: MentHlth\n",
      "  Invalid values outside range [0, 30]: 0\n",
      "\n",
      "Checking column: PhysHlth\n",
      "  Invalid values outside range [0, 30]: 0\n"
     ]
    }
   ],
   "source": [
    "def check_invalid(df, col, valid_range):\n",
    "    min_val, max_val = valid_range\n",
    "    invalid_mask = (df[col] < min_val) | (df[col] > max_val)\n",
    "    invalid_rows = df[invalid_mask]\n",
    "    \n",
    "    print(f\"\\nChecking column: {col}\")\n",
    "    print(f\"  Invalid values outside range {valid_range}: {len(invalid_rows)}\")\n",
    "\n",
    "# Run checks on all columns\n",
    "for col, rng in valid_ranges.items():\n",
    "    check_invalid(df, col, rng)"
   ]
  },
  {
   "cell_type": "markdown",
   "metadata": {},
   "source": [
    "BMIs outside the range of 10 to 70 are considered biologically implausible and are likely data entry errors. These entries were excluded from the analysis to avoid skewing the model and introducing bias"
   ]
  },
  {
   "cell_type": "code",
   "execution_count": 5,
   "metadata": {},
   "outputs": [],
   "source": [
    "df = df[(df['BMI'] >= 10) & (df['BMI'] <= 70)]"
   ]
  },
  {
   "cell_type": "markdown",
   "metadata": {},
   "source": [
    "**Data Type Conversions**"
   ]
  },
  {
   "cell_type": "code",
   "execution_count": 6,
   "metadata": {},
   "outputs": [
    {
     "data": {
      "text/plain": [
       "Diabetes_012            float64\n",
       "HighBP                  float64\n",
       "HighChol                float64\n",
       "CholCheck               float64\n",
       "BMI                     float64\n",
       "Smoker                  float64\n",
       "Stroke                  float64\n",
       "HeartDiseaseorAttack    float64\n",
       "PhysActivity            float64\n",
       "Fruits                  float64\n",
       "Veggies                 float64\n",
       "HvyAlcoholConsump       float64\n",
       "AnyHealthcare           float64\n",
       "NoDocbcCost             float64\n",
       "GenHlth                 float64\n",
       "MentHlth                float64\n",
       "PhysHlth                float64\n",
       "DiffWalk                float64\n",
       "Sex                     float64\n",
       "Age                     float64\n",
       "Education               float64\n",
       "Income                  float64\n",
       "dtype: object"
      ]
     },
     "execution_count": 6,
     "metadata": {},
     "output_type": "execute_result"
    }
   ],
   "source": [
    "df.dtypes"
   ]
  },
  {
   "cell_type": "code",
   "execution_count": 7,
   "metadata": {},
   "outputs": [],
   "source": [
    "binary_features = ['Diabetes_012', 'HighBP', 'HighChol', 'CholCheck', \n",
    "                    'Smoker', 'Stroke','HeartDiseaseorAttack', 'PhysActivity',\n",
    "                   'Fruits', 'Veggies', 'HvyAlcoholConsump', 'AnyHealthcare', \n",
    "                   'NoDocbcCost', 'DiffWalk', 'Sex']\n",
    "binary_target = ['Diabetes_012']\n",
    "\n",
    "ordinal_features = ['GenHlth', 'Age', 'Education' , 'Income'] #make into categorical too \n",
    "continious_features = ['BMI', 'MentHlth', 'PhysHlth'] ##Discrete numerical values\n"
   ]
  },
  {
   "cell_type": "code",
   "execution_count": 8,
   "metadata": {},
   "outputs": [],
   "source": [
    "df[binary_target] = df[binary_target].astype('category')\n",
    "\n",
    "for col in binary_features:\n",
    "    df[col] = df[col].astype('category')\n",
    "\n",
    "for col in ordinal_features:\n",
    "    df[col] = df[col].astype('category')                                            \n",
    "    "
   ]
  },
  {
   "cell_type": "code",
   "execution_count": 9,
   "metadata": {},
   "outputs": [
    {
     "data": {
      "text/plain": [
       "Diabetes_012            category\n",
       "HighBP                  category\n",
       "HighChol                category\n",
       "CholCheck               category\n",
       "BMI                      float64\n",
       "Smoker                  category\n",
       "Stroke                  category\n",
       "HeartDiseaseorAttack    category\n",
       "PhysActivity            category\n",
       "Fruits                  category\n",
       "Veggies                 category\n",
       "HvyAlcoholConsump       category\n",
       "AnyHealthcare           category\n",
       "NoDocbcCost             category\n",
       "GenHlth                 category\n",
       "MentHlth                 float64\n",
       "PhysHlth                 float64\n",
       "DiffWalk                category\n",
       "Sex                     category\n",
       "Age                     category\n",
       "Education               category\n",
       "Income                  category\n",
       "dtype: object"
      ]
     },
     "execution_count": 9,
     "metadata": {},
     "output_type": "execute_result"
    }
   ],
   "source": [
    "df.dtypes"
   ]
  },
  {
   "cell_type": "markdown",
   "metadata": {},
   "source": [
    "**Checking for Outliers in the Numerical Data**"
   ]
  },
  {
   "cell_type": "code",
   "execution_count": 10,
   "metadata": {},
   "outputs": [
    {
     "name": "stdout",
     "output_type": "stream",
     "text": [
      "BMI: 9263 outliers\n",
      "MentHlth: 36121 outliers\n",
      "PhysHlth: 40848 outliers\n"
     ]
    }
   ],
   "source": [
    "def detect_outliers(df, col):\n",
    "    Q1 = df[col].quantile(0.25)\n",
    "    Q3 = df[col].quantile(0.75)\n",
    "    IQR = Q3 - Q1\n",
    "    low_bound = Q1 - 1.5 * IQR\n",
    "    upper_bound = Q3 + 1.5 * IQR\n",
    "\n",
    "    outliers = df[(df[col] < low_bound) | (df[col] > upper_bound)]\n",
    "    print(f'{col}: {len(outliers)} outliers')\n",
    "\n",
    "    return outliers, low_bound, upper_bound\n",
    "\n",
    "for col in continious_features:\n",
    "    outliers, low, high = detect_outliers(df, col)"
   ]
  },
  {
   "cell_type": "code",
   "execution_count": 23,
   "metadata": {},
   "outputs": [
    {
     "data": {
      "image/png": "[encoded data removed]",
      "text/plain": [
       "<Figure size 640x480 with 1 Axes>"
      ]
     },
     "metadata": {},
     "output_type": "display_data"
    }
   ],
   "source": [
    "sns.histplot(df['BMI'], bins=50)\n",
    "plt.xlim(0, 80)  # adjust if needed\n",
    "plt.show()"
   ]
  },
  {
   "cell_type": "code",
   "execution_count": 24,
   "metadata": {},
   "outputs": [
    {
     "data": {
      "text/plain": [
       "count    253680.000000\n",
       "mean         28.382364\n",
       "std           6.608694\n",
       "min          12.000000\n",
       "25%          24.000000\n",
       "50%          27.000000\n",
       "75%          31.000000\n",
       "max          98.000000\n",
       "Name: BMI, dtype: float64"
      ]
     },
     "execution_count": 24,
     "metadata": {},
     "output_type": "execute_result"
    }
   ],
   "source": [
    "df['BMI'].describe()"
   ]
  },
  {
   "cell_type": "markdown",
   "metadata": {},
   "source": [
    "With the Min being 12, this is very possible, max being 70 was the maximum. Most values between 24 and 31 r consistent w overweight and the obese population. I believe these extremes are needed for modeling as the range between 12-70 are possible."
   ]
  },
  {
   "cell_type": "code",
   "execution_count": 25,
   "metadata": {},
   "outputs": [
    {
     "data": {
      "text/plain": [
       "<Axes: xlabel='MentHlth'>"
      ]
     },
     "execution_count": 25,
     "metadata": {},
     "output_type": "execute_result"
    },
    {
     "data": {
      "image/png": "[encoded data removed]",
      "text/plain": [
       "<Figure size 640x480 with 1 Axes>"
      ]
     },
     "metadata": {},
     "output_type": "display_data"
    }
   ],
   "source": [
    "df['MentHlth'].value_counts().sort_index().plot(kind='bar')"
   ]
  },
  {
   "cell_type": "markdown",
   "metadata": {},
   "source": [
    "Most people reported 0 days meaning no bad health days. Values at the high end are not invalid however simpliy less common."
   ]
  },
  {
   "cell_type": "code",
   "execution_count": 26,
   "metadata": {},
   "outputs": [
    {
     "data": {
      "text/plain": [
       "<Axes: xlabel='PhysHlth'>"
      ]
     },
     "execution_count": 26,
     "metadata": {},
     "output_type": "execute_result"
    },
    {
     "data": {
      "image/png": "[encoded data removed]",
      "text/plain": [
       "<Figure size 640x480 with 1 Axes>"
      ]
     },
     "metadata": {},
     "output_type": "display_data"
    }
   ],
   "source": [
    "df['PhysHlth'].value_counts().sort_index().plot(kind='bar')"
   ]
  },
  {
   "cell_type": "markdown",
   "metadata": {},
   "source": [
    "Most people reported 0 days meaning no bad health days. Values at the high end are not invalid however simpliy less common."
   ]
  },
  {
   "cell_type": "code",
   "execution_count": null,
   "metadata": {},
   "outputs": [],
   "source": []
  }
 ],
 "metadata": {
  "kernelspec": {
   "display_name": "Python 3",
   "language": "python",
   "name": "python3"
  },
  "language_info": {
   "codemirror_mode": {
    "name": "ipython",
    "version": 3
   },
   "file_extension": ".py",
   "mimetype": "text/x-python",
   "name": "python",
   "nbconvert_exporter": "python",
   "pygments_lexer": "ipython3",
   "version": "3.12.3"
  }
 },
 "nbformat": 4,
 "nbformat_minor": 4
}
